{
  "nbformat": 4,
  "nbformat_minor": 0,
  "metadata": {
    "colab": {
      "provenance": [],
      "authorship_tag": "ABX9TyN87CmvMDB02o7nsoIyjHnK",
      "include_colab_link": true
    },
    "kernelspec": {
      "name": "python3",
      "display_name": "Python 3"
    },
    "language_info": {
      "name": "python"
    }
  },
  "cells": [
    {
      "cell_type": "markdown",
      "metadata": {
        "id": "view-in-github",
        "colab_type": "text"
      },
      "source": [
        "<a href=\"https://colab.research.google.com/github/Esssssther/100PythonProject/blob/main/Day2_tip_bill_calculator.ipynb\" target=\"_parent\"><img src=\"https://colab.research.google.com/assets/colab-badge.svg\" alt=\"Open In Colab\"/></a>"
      ]
    },
    {
      "cell_type": "code",
      "execution_count": null,
      "metadata": {
        "colab": {
          "base_uri": "https://localhost:8080/"
        },
        "id": "Q4mtKpJSUkZT",
        "outputId": "287a68c1-09c0-43d0-f3c0-3d43d733d4cb"
      },
      "outputs": [
        {
          "output_type": "stream",
          "name": "stdout",
          "text": [
            "Welcome to the tip calculator\n",
            "What was the total bill? $125.34\n",
            "How many people to split the bill?5\n",
            "What percentage tip would you like to give? 10, 12, or 15?12\n",
            "125.15\n",
            "28.03\n",
            "every one should pay 28.03\n",
            "every one should pay 28.03\n"
          ]
        }
      ],
      "source": [
        "print(\"Welcome to the tip calculator\")\n",
        "#bill=str(input('What was the total bill?'))\n",
        "bill=float(input(\"What was the total bill? $\"))\n",
        "people=int(input('How many people to split the bill?'))\n",
        "tip=int(input('What percentage tip would you like to give? 10, 12, or 15?'))\n",
        "#bill_flt=float(bill[1:])\n",
        "\n",
        "#print(bill_flt)\n",
        "pay=round(bill*(1+0.01*tip)/people,2)\n",
        "print(pay)\n",
        "print(f\"every one should pay ${pay}\")\n",
        "print(\"every one should pay\",pay)\n",
        "#print(\"every one should pay\"+pay)会报错，因为pay是float然后把string和float加在一起是会报错的"
      ]
    },
    {
      "cell_type": "code",
      "source": [
        "#string\n",
        "\"Hello\"[0:4]\n",
        "\"123\"+\"456\""
      ],
      "metadata": {
        "colab": {
          "base_uri": "https://localhost:8080/",
          "height": 35
        },
        "id": "ApCwFfdCWQPK",
        "outputId": "69d63bca-fd67-47ee-eb71-df3eb09d6843"
      },
      "execution_count": null,
      "outputs": [
        {
          "output_type": "execute_result",
          "data": {
            "text/plain": [
              "'123456'"
            ],
            "application/vnd.google.colaboratory.intrinsic+json": {
              "type": "string"
            }
          },
          "metadata": {},
          "execution_count": 9
        }
      ]
    },
    {
      "cell_type": "code",
      "source": [
        "#integer\n",
        "print(123+345)\n",
        "#large integer, we human will like to use 100,450,000\n",
        "#in python, we can use 100_450_000 use _ to replace , and python will underdstand it is an integer\n",
        "100_450_000"
      ],
      "metadata": {
        "colab": {
          "base_uri": "https://localhost:8080/"
        },
        "id": "Pu7BuqDxXSA_",
        "outputId": "d2d70339-6b82-49f6-b62e-29aca79b1d70"
      },
      "execution_count": null,
      "outputs": [
        {
          "output_type": "stream",
          "name": "stdout",
          "text": [
            "468\n"
          ]
        },
        {
          "output_type": "execute_result",
          "data": {
            "text/plain": [
              "100450000"
            ]
          },
          "metadata": {},
          "execution_count": 11
        }
      ]
    },
    {
      "cell_type": "code",
      "source": [
        "#float, number with decimal place\n",
        "type(3.1415926)\n",
        "#boolean\n",
        "type(True)"
      ],
      "metadata": {
        "colab": {
          "base_uri": "https://localhost:8080/"
        },
        "id": "Q2vnnLR7ZCdc",
        "outputId": "5412ae9c-01d9-4bc3-855a-cd31a1a9baae"
      },
      "execution_count": null,
      "outputs": [
        {
          "output_type": "execute_result",
          "data": {
            "text/plain": [
              "bool"
            ]
          },
          "metadata": {},
          "execution_count": 21
        }
      ]
    },
    {
      "cell_type": "code",
      "source": [
        "print(6/2)\n",
        "#/ will give float"
      ],
      "metadata": {
        "colab": {
          "base_uri": "https://localhost:8080/"
        },
        "id": "icCW4hv2cL5L",
        "outputId": "4748d936-2e27-498f-b3a7-8d4e0fd81978"
      },
      "execution_count": null,
      "outputs": [
        {
          "output_type": "stream",
          "name": "stdout",
          "text": [
            "3.0\n"
          ]
        }
      ]
    },
    {
      "cell_type": "code",
      "source": [
        "2**3\n",
        "#2^3"
      ],
      "metadata": {
        "colab": {
          "base_uri": "https://localhost:8080/"
        },
        "id": "E7ntI7fkco9Q",
        "outputId": "2d042297-3c3c-43a1-de47-2c07b9703474"
      },
      "execution_count": null,
      "outputs": [
        {
          "output_type": "execute_result",
          "data": {
            "text/plain": [
              "8"
            ]
          },
          "metadata": {},
          "execution_count": 24
        }
      ]
    },
    {
      "cell_type": "code",
      "source": [
        "print(8/3)\n",
        "print(int(8/3))\n",
        "print(round(8/3))\n",
        "print(round(8/3,2))"
      ],
      "metadata": {
        "colab": {
          "base_uri": "https://localhost:8080/"
        },
        "id": "dKtSYmxAeuhO",
        "outputId": "d7c044cb-8df2-41f6-bff1-b0d7131ba8f0"
      },
      "execution_count": null,
      "outputs": [
        {
          "output_type": "stream",
          "name": "stdout",
          "text": [
            "2.6666666666666665\n",
            "2\n",
            "3\n",
            "2.67\n"
          ]
        }
      ]
    },
    {
      "cell_type": "code",
      "source": [
        "#floor 只保留整数部分\n",
        "print(8//3)\n",
        "print(type(8//3))"
      ],
      "metadata": {
        "colab": {
          "base_uri": "https://localhost:8080/"
        },
        "id": "YGYap5a5fAju",
        "outputId": "a3d45611-c628-4a92-f405-cc5e9f2c4f0c"
      },
      "execution_count": null,
      "outputs": [
        {
          "output_type": "stream",
          "name": "stdout",
          "text": [
            "2\n",
            "<class 'int'>\n"
          ]
        }
      ]
    },
    {
      "cell_type": "code",
      "source": [
        "#f-string, add f infront of string and put {} to add other type of data\n",
        "score=0\n",
        "height=1.5\n",
        "print(f\"your score is {score}\")\n",
        "print(f\"your height is {height}\")"
      ],
      "metadata": {
        "colab": {
          "base_uri": "https://localhost:8080/"
        },
        "id": "Edh2mDUjfpoy",
        "outputId": "edc13de4-a300-4298-bf3c-3f0ffb93c29f"
      },
      "execution_count": null,
      "outputs": [
        {
          "output_type": "stream",
          "name": "stdout",
          "text": [
            "your score is 0\n",
            "your height is 1.5\n"
          ]
        }
      ]
    }
  ]
}