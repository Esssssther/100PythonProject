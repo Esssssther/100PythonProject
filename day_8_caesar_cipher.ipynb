{
  "nbformat": 4,
  "nbformat_minor": 0,
  "metadata": {
    "colab": {
      "provenance": [],
      "authorship_tag": "ABX9TyPHF8654ISIcwAu5jrXYOE3",
      "include_colab_link": true
    },
    "kernelspec": {
      "name": "python3",
      "display_name": "Python 3"
    },
    "language_info": {
      "name": "python"
    }
  },
  "cells": [
    {
      "cell_type": "markdown",
      "metadata": {
        "id": "view-in-github",
        "colab_type": "text"
      },
      "source": [
        "<a href=\"https://colab.research.google.com/github/Esssssther/100PythonProject/blob/main/day_8_caesar_cipher.ipynb\" target=\"_parent\"><img src=\"https://colab.research.google.com/assets/colab-badge.svg\" alt=\"Open In Colab\"/></a>"
      ]
    },
    {
      "cell_type": "code",
      "execution_count": null,
      "metadata": {
        "colab": {
          "base_uri": "https://localhost:8080/"
        },
        "id": "C0Jbu2EuYvyS",
        "outputId": "902c9259-4551-4c19-b056-164ffdf1cb83"
      },
      "outputs": [
        {
          "output_type": "stream",
          "name": "stdout",
          "text": [
            "Hello\n"
          ]
        }
      ],
      "source": [
        "#function\n",
        "def greet():\n",
        "    print(\"Hello\")\n",
        "greet()"
      ]
    },
    {
      "cell_type": "code",
      "source": [
        "#add somthing in () function with input\n",
        "#def my_function(something):\n",
        "#   do this with something\n",
        "def greet_with_name(name):#parameter the name of the attribute\n",
        "    print(f\"Hello {name}\")\n",
        "\n",
        "greet_with_name(\"Esther\")# name = \"Esther\" --> the actual data is the argument\n",
        "greet_with_name(\"Dante\")"
      ],
      "metadata": {
        "colab": {
          "base_uri": "https://localhost:8080/"
        },
        "id": "PRNBu4K8ZdRj",
        "outputId": "a4943cd1-a9a1-4f6d-e4ed-071dbaad5558"
      },
      "execution_count": null,
      "outputs": [
        {
          "output_type": "stream",
          "name": "stdout",
          "text": [
            "Hello Esther\n",
            "Hello Dante\n"
          ]
        }
      ]
    },
    {
      "cell_type": "code",
      "source": [
        "#more than 1 input\n",
        "def greet_with(name,location):\n",
        "    print(f\"hello {name}\")\n",
        "    print(f\" How is the Weather in {location}\")\n",
        "\n",
        "greet_with(\"Esther\",\"Ningbo\")# without definition, python use order\n",
        "#keyword arguments\n",
        "greet_with(location=\"Ningbo\",name=\"Dante\") # or use parameter to define the argument\n"
      ],
      "metadata": {
        "colab": {
          "base_uri": "https://localhost:8080/"
        },
        "id": "Tl2jGzWXaO7v",
        "outputId": "be489ce3-7378-4fbf-d25b-9345282f3d00"
      },
      "execution_count": null,
      "outputs": [
        {
          "output_type": "stream",
          "name": "stdout",
          "text": [
            "hello Esther\n",
            " How is the Weather in Ningbo\n",
            "hello Dante\n",
            " How is the Weather in Ningbo\n"
          ]
        }
      ]
    },
    {
      "cell_type": "code",
      "source": [
        "# 判断是不是质数 prime number checker\n",
        "#Write your code below this line 👇\n",
        "\n",
        "def prime_checker(number):\n",
        "    j=0\n",
        "    for i in range(2,number):\n",
        "        if number % i ==0:\n",
        "            j+=1\n",
        "    if j>0:\n",
        "        print(\"It's not a prime number.\")\n",
        "    else:\n",
        "        print(\"It's a prime number.\")\n",
        "\n",
        "\n",
        "\n",
        "#Write your code above this line 👆\n",
        "\n",
        "#Do NOT change any of the code below👇\n",
        "n = int(input(\"Check this number: \"))\n",
        "prime_checker(number=n)\n"
      ],
      "metadata": {
        "id": "qDf3vqSZeTy4"
      },
      "execution_count": null,
      "outputs": []
    },
    {
      "cell_type": "code",
      "source": [
        "from posixpath import join\n",
        "alphabet = ['a', 'b', 'c', 'd', 'e', 'f', 'g', 'h', 'i', 'j', 'k', 'l', 'm', 'n', 'o', 'p', 'q', 'r', 's', 't', 'u', 'v', 'w', 'x', 'y', 'z','a', 'b', 'c', 'd', 'e', 'f', 'g', 'h', 'i', 'j', 'k', 'l', 'm', 'n', 'o', 'p', 'q', 'r', 's', 't', 'u', 'v', 'w', 'x', 'y', 'z']\n",
        "\n",
        "direction = input(\"Type 'encode' to encrypt加密, type 'decode' to decrypt解密:\\n\").lower()\n",
        "text = input(\"Type your message:\\n\").lower()\n",
        "shift = int(input(\"Type the shift number:\\n\"))\n",
        "\n",
        "#TODO-1: Create a function called 'encrypt' that takes the 'text' and 'shift' as inputs.\n",
        "\n",
        "def encrypt(text,shift):\n",
        "    cipher_text=\"\"\n",
        "    for letter in text:\n",
        "        position=alphabet.index(letter)\n",
        "        cipher_text+=alphabet[position+shift]\n",
        "    print(f\"The encoded text is {cipher_text}\")\n",
        "\n",
        "\n",
        "#TODO-1: Create a different function called 'decrypt' that takes the 'text' and 'shift' as inputs.\n",
        "\n",
        "def decrypt(text,shift):\n",
        "    plain_text=\"\"\n",
        "    for letter in text:\n",
        "        position=alphabet.index(letter)\n",
        "        plain_text += alphabet[position - shift]\n",
        "    print(f\"The decoded text is {plain_text}\")\n",
        "\n",
        "  #TODO-2: Inside the 'decrypt' function, shift each letter of the 'text' *backwards* in the alphabet by the shift amount and print the decrypted text.\n",
        "  #e.g.\n",
        "  #cipher_text = \"mjqqt\"\n",
        "  #shift = 5\n",
        "  #plain_text = \"hello\"\n",
        "  #print output: \"The decoded text is hello\"\n",
        "\n",
        "\n",
        "#TODO-3: Check if the user wanted to encrypt or decrypt the message by checking the 'direction' variable. Then call the correct function based on that 'drection' variable. You should be able to test the code to encrypt *AND* decrypt a message.\n",
        "\n",
        "\n",
        "\n",
        "\n",
        "if direction == \"encode\":\n",
        "    encrypt(text,shift)\n",
        "elif direction == \"decode\":\n",
        "    decrypt(text,shift)\n",
        "\n",
        "    #TODO-2: Inside the 'encrypt' function, shift each letter of the 'text' forwards in the alphabet by the shift amount and print the encrypted text.\n",
        "    #e.g.\n",
        "    #plain_text = \"hello\"\n",
        "    #shift = 5\n",
        "    #cipher_text = \"mjqqt\"\n",
        "    #print output: \"The encoded text is mjqqt\"\n",
        "\n",
        "    ##HINT: How do you get the index of an item in a list:\n",
        "    #https://stackoverflow.com/questions/176918/finding-the-index-of-an-item-in-a-list\n",
        "\n",
        "    ##🐛Bug alert: What happens if you try to encode the word 'civilization'?🐛\n",
        "\n",
        "#TODO-3: Call the encrypt function and pass in the user inputs. You should be able to test the code and encrypt a message."
      ],
      "metadata": {
        "colab": {
          "base_uri": "https://localhost:8080/"
        },
        "id": "3t9ffMh9FlgT",
        "outputId": "a5038f4b-5504-4192-f162-15cdd0326e85"
      },
      "execution_count": null,
      "outputs": [
        {
          "output_type": "stream",
          "name": "stdout",
          "text": [
            "Type 'encode' to encrypt加密, type 'decode' to decrypt解密:\n",
            "decode\n",
            "Type your message:\n",
            "aaaa\n",
            "Type the shift number:\n",
            "2\n",
            "The decoded text is yyyy\n"
          ]
        }
      ]
    },
    {
      "cell_type": "code",
      "source": [
        "from posixpath import join\n",
        "logo = \"\"\"\n",
        " ,adPPYba, ,adPPYYba,  ,adPPYba, ,adPPYba, ,adPPYYba, 8b,dPPYba,\n",
        "a8\"     \"\" \"\"     `Y8 a8P_____88 I8[    \"\" \"\"     `Y8 88P'   \"Y8\n",
        "8b         ,adPPPPP88 8PP\"\"\"\"\"\"\"  `\"Y8ba,  ,adPPPPP88 88\n",
        "\"8a,   ,aa 88,    ,88 \"8b,   ,aa aa    ]8I 88,    ,88 88\n",
        " `\"Ybbd8\"' `\"8bbdP\"Y8  `\"Ybbd8\"' `\"YbbdP\"' `\"8bbdP\"Y8 88\n",
        "            88             88\n",
        "           \"\"             88\n",
        "                          88\n",
        " ,adPPYba, 88 8b,dPPYba,  88,dPPYba,   ,adPPYba, 8b,dPPYba,\n",
        "a8\"     \"\" 88 88P'    \"8a 88P'    \"8a a8P_____88 88P'   \"Y8\n",
        "8b         88 88       d8 88       88 8PP\"\"\"\"\"\"\" 88\n",
        "\"8a,   ,aa 88 88b,   ,a8\" 88       88 \"8b,   ,aa 88\n",
        " `\"Ybbd8\"' 88 88`YbbdP\"'  88       88  `\"Ybbd8\"' 88\n",
        "              88\n",
        "              88\n",
        "\"\"\"\n",
        "print(logo)\n",
        "alphabet = ['a', 'b', 'c', 'd', 'e', 'f', 'g', 'h', 'i', 'j', 'k', 'l', 'm', 'n', 'o', 'p', 'q', 'r', 's', 't', 'u', 'v', 'w', 'x', 'y', 'z','a', 'b', 'c', 'd', 'e', 'f', 'g', 'h', 'i', 'j', 'k', 'l', 'm', 'n', 'o', 'p', 'q', 'r', 's', 't', 'u', 'v', 'w', 'x', 'y', 'z']\n",
        "\n",
        "\n",
        "\n",
        "#TODO-2: What if the user enters a shift that is greater than the number of letters in the alphabet?\n",
        "#Try running the program and entering a shift number of 45.\n",
        "#Add some code so that the program continues to work even if the user enters a shift number greater than 26.\n",
        "#Hint: Think about how you can use the modulus (%).\n",
        "if shift > 26:\n",
        "    shift = shift % 26\n",
        "\n",
        "def caesar(text,shift,direction):\n",
        "    print_text=\"\"\n",
        "    for letter in text:\n",
        "    #TODO-3: What happens if the user enters a number/symbol/space?\n",
        "    #Can you fix the code to keep the number/symbol/space when the text is encoded/decoded?\n",
        "    #e.g. start_text = \"meet me at 3\"\n",
        "    #end_text = \"•••• •• •• 3\"\n",
        "        if alphabet.count(letter)==0:\n",
        "            print_text+=letter\n",
        "        else:\n",
        "            position=alphabet.index(letter)\n",
        "            if direction == \"encode\":\n",
        "                new_position = position + shift\n",
        "            elif direction == \"decode\":\n",
        "                new_position = position - shift\n",
        "            print_text += alphabet[new_position]\n",
        "    print(f\"the {direction} code is {print_text}\")\n",
        "\n",
        "restart = \"yes\"\n",
        "while restart != \"no\":\n",
        "    direction = input(\"Type 'encode' to encrypt加密, type 'decode' to decrypt解密:\\n\").lower()\n",
        "    text = input(\"Type your message:\\n\").lower()\n",
        "    shift = int(input(\"Type the shift number:\\n\"))\n",
        "    caesar(text,shift,direction)\n",
        "    restart = input(\"Do you want to restart the cipher program?/yes or no?\").lower()\n",
        "\n",
        "#TODO-4: Can you figure out a way to ask the user if they want to restart the cipher program?\n",
        "#e.g. Type 'yes' if you want to go again. Otherwise type 'no'.\n",
        "#If they type 'yes' then ask them for the direction/text/shift again and call the caesar() function again?\n",
        "#Hint: Try creating a while loop that continues to execute the program if the user types 'yes'.\n"
      ],
      "metadata": {
        "colab": {
          "base_uri": "https://localhost:8080/"
        },
        "id": "zEeosmX80IDG",
        "outputId": "bb82cadf-75d0-4e97-d17f-e9975ba686bc"
      },
      "execution_count": null,
      "outputs": [
        {
          "name": "stdout",
          "output_type": "stream",
          "text": [
            "           \n",
            " ,adPPYba, ,adPPYYba,  ,adPPYba, ,adPPYba, ,adPPYYba, 8b,dPPYba,  \n",
            "a8\"     \"\" \"\"     `Y8 a8P_____88 I8[    \"\" \"\"     `Y8 88P'   \"Y8  \n",
            "8b         ,adPPPPP88 8PP\"  `\"Y8ba,  ,adPPPPP88 88          \n",
            "\"8a,   ,aa 88,    ,88 \"8b,   ,aa aa    ]8I 88,    ,88 88          \n",
            " `\"Ybbd8\"' `\"8bbdP\"Y8  `\"Ybbd8\"' `\"YbbdP\"' `\"8bbdP\"Y8 88   \n",
            "            88             88                                 \n",
            "           \"\"             88                                 \n",
            "                          88                                 \n",
            " ,adPPYba, 88 8b,dPPYba,  88,dPPYba,   ,adPPYba, 8b,dPPYba,  \n",
            "a8\"     \"\" 88 88P'    \"8a 88P'    \"8a a8P_____88 88P'   \"Y8  \n",
            "8b         88 88       d8 88       88 8PP\" 88          \n",
            "\"8a,   ,aa 88 88b,   ,a8\" 88       88 \"8b,   ,aa 88          \n",
            " `\"Ybbd8\"' 88 88`YbbdP\"'  88       88  `\"Ybbd8\"' 88          \n",
            "              88                                             \n",
            "              88           \n",
            "\n",
            "Type 'encode' to encrypt加密, type 'decode' to decrypt解密:\n",
            "encode\n",
            "Type your message:\n",
            "meet at 3?\n",
            "Type the shift number:\n",
            "3\n",
            "the encode code is phhw dw 3?\n",
            "Do you want to restart the cipher program?/yes or no?yes\n",
            "Type 'encode' to encrypt加密, type 'decode' to decrypt解密:\n",
            "decode\n",
            "Type your message:\n",
            "phhw dw 3?\n",
            "Type the shift number:\n",
            "3\n",
            "the decode code is meet at 3?\n",
            "Do you want to restart the cipher program?/yes or no?no\n"
          ]
        }
      ]
    }
  ]
}