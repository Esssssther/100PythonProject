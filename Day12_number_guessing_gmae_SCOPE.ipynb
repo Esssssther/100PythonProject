{
  "nbformat": 4,
  "nbformat_minor": 0,
  "metadata": {
    "colab": {
      "provenance": [],
      "authorship_tag": "ABX9TyMIRT69kvl9urWzYROHX0PR",
      "include_colab_link": true
    },
    "kernelspec": {
      "name": "python3",
      "display_name": "Python 3"
    },
    "language_info": {
      "name": "python"
    }
  },
  "cells": [
    {
      "cell_type": "markdown",
      "metadata": {
        "id": "view-in-github",
        "colab_type": "text"
      },
      "source": [
        "<a href=\"https://colab.research.google.com/github/Esssssther/100PythonProject/blob/main/Day12_number_guessing_gmae_SCOPE.ipynb\" target=\"_parent\"><img src=\"https://colab.research.google.com/assets/colab-badge.svg\" alt=\"Open In Colab\"/></a>"
      ]
    },
    {
      "cell_type": "code",
      "source": [
        "from IPython.lib.security import random\n",
        "\n",
        "# Include an ASCII art logo.\n",
        "logo = \"\"\"\n",
        "  / _ \\_   _  ___  ___ ___  /__   \\ |__   ___    /\\ \\ \\_   _ _ __ ___ | |__   ___ _ __\n",
        " / /_\\/ | | |/ _ \\/ __/ __|   / /\\/ '_ \\ / _ \\  /  \\/ / | | | '_ ` _ \\| '_ \\ / _ \\ '__|\n",
        "/ /_\\\\| |_| |  __/\\__ \\__ \\  / /  | | | |  __/ / /\\  /| |_| | | | | | | |_) |  __/ |\n",
        "\\____/ \\__,_|\\___||___/___/  \\/   |_| |_|\\___| \\_\\ \\/  \\__,_|_| |_| |_|_.__/ \\___|_|\n",
        "\"\"\"\n",
        "print(logo)\n",
        "#Number Guessing Game Objectives:\n",
        "print(\"Welcome to the Number Guessing Game!\")\n",
        "print(\"I'm thinking of a number between 1 and 100\")\n",
        "difficulty_level= input(\"Choose a difficulty. Type 'easy' or 'hard':\").lower()\n",
        "def print_remain():\n",
        "    if attempt == 0:\n",
        "        print(\"You have run out of guess, you lose\")\n",
        "    else:\n",
        "        print(\"Guess again.\")\n",
        "        print(f\"You have {attempt} attempts remaining to guess the number\")\n",
        "\n",
        "if difficulty_level == \"easy\":\n",
        "    attempt=10\n",
        "elif difficulty_level == \"hard\":\n",
        "    attempt =5\n",
        "print_remain()\n",
        "\n",
        "generate_num=random.randint(1,100)\n",
        "\n",
        "while attempt != 0:\n",
        "    guess=int(input(\"Make a guess:\"))\n",
        "    if guess == generate_num:\n",
        "        attempt=0\n",
        "        print(f\"You got it! The answer was {generate_num}\")\n",
        "    elif guess < generate_num:\n",
        "        print(\"Too low.\")\n",
        "        attempt -=1\n",
        "        print_remain()\n",
        "    else:\n",
        "        print(\"Too high.\")\n",
        "        attempt -=1\n",
        "        print_remain()\n",
        "\n",
        "\n",
        "\n",
        "# Allow the player to submit a guess for a number between 1 and 100.\n",
        "# Check user's guess against actual answer. Print \"Too high.\" or \"Too low.\" depending on the user's answer.\n",
        "# If they got the answer correct, show the actual answer to the player.\n",
        "# Track the number of turns remaining.\n",
        "# If they run out of turns, provide feedback to the player.\n",
        "# Include two different difficulty levels (e.g., 10 guesses in easy mode, only 5 guesses in hard mode).\n",
        "\n"
      ],
      "metadata": {
        "colab": {
          "base_uri": "https://localhost:8080/"
        },
        "id": "jSwdTMJ-Q9qe",
        "outputId": "ed75e009-eb21-4c1b-b716-9543de72a893"
      },
      "execution_count": 33,
      "outputs": [
        {
          "output_type": "stream",
          "name": "stdout",
          "text": [
            "\n",
            "  / _ \\_   _  ___  ___ ___  /__   \\ |__   ___    /\\ \\ \\_   _ _ __ ___ | |__   ___ _ __ \n",
            " / /_\\/ | | |/ _ \\/ __/ __|   / /\\/ '_ \\ / _ \\  /  \\/ / | | | '_ ` _ \\| '_ \\ / _ \\ '__|\n",
            "/ /_\\| |_| |  __/\\__ \\__ \\  / /  | | | |  __/ / /\\  /| |_| | | | | | | |_) |  __/ |   \n",
            "\\____/ \\__,_|\\___||___/___/  \\/   |_| |_|\\___| \\_\\ \\/  \\__,_|_| |_| |_|_.__/ \\___|_|  \n",
            "\n",
            "Welcome to the Number Guessing Game!\n",
            "I'm thinking of a number between 1 and 100\n",
            "Choose a difficulty. Type 'easy' or 'hard':hard\n",
            "Guess again.\n",
            "You have 5 attempts remaining to guess the number\n",
            "Make a guess:50\n",
            "Too high.\n",
            "Guess again.\n",
            "You have 4 attempts remaining to guess the number\n",
            "Make a guess:35\n",
            "Too high.\n",
            "Guess again.\n",
            "You have 3 attempts remaining to guess the number\n",
            "Make a guess:17\n",
            "Too low.\n",
            "Guess again.\n",
            "You have 2 attempts remaining to guess the number\n",
            "Make a guess:37\n",
            "Too high.\n",
            "Guess again.\n",
            "You have 1 attempts remaining to guess the number\n",
            "Make a guess:27\n",
            "Too low.\n",
            "You have run out of guess, you lose\n"
          ]
        }
      ]
    },
    {
      "cell_type": "code",
      "source": [
        "#use more function\n",
        "from IPython.lib.security import random\n",
        "\n",
        "# Include an ASCII art logo.\n",
        "logo='''\n",
        "  ________ ____ ______________ _________ _________ ______________ ______________  _______   ____ ___  _____ _______________________________\n",
        " /  _____/|    |   \\_   _____//   _____//   _____/ \\__    ___/   |   \\_   _____/  \\      \\ |    |   \\/     \\\\______   \\_   _____/\\______   \\\n",
        "/   \\  ___|    |   /|    __)_ \\_____  \\ \\_____  \\    |    | /    ~    \\    __)_   /   |   \\|    |   /  \\ /  \\|    |  _/|    __)_  |       _/\n",
        "\\    \\_\\  \\    |  / |        \\/        \\/        \\   |    | \\    Y    /        \\ /    |    \\    |  /    Y    \\    |   \\|        \\ |    |   \\\n",
        " \\______  /______/ /_______  /_______  /_______  /   |____|  \\___|_  /_______  / \\____|__  /______/\\____|__  /______  /_______  / |____|_  /\n",
        "        \\/                 \\/        \\/        \\/                  \\/        \\/          \\/                \\/       \\/        \\/         \\/\n",
        "'''\n",
        "\n",
        "\n",
        "def set_difficulty():\n",
        "    difficulty_level= input(\"Choose a difficulty. Type 'easy' or 'hard':\").lower()\n",
        "    if difficulty_level == \"easy\":\n",
        "        return 10\n",
        "    else:\n",
        "        return 5\n",
        "\n",
        "def compare(guess,num,attempts):\n",
        "    if guess == num:\n",
        "        print(f\"You got it! The answer was {num}\")\n",
        "        return 0\n",
        "    elif guess < num:\n",
        "        print(\"Too low.\")\n",
        "        return attempts-1\n",
        "    else:\n",
        "        print(\"Too high.\")\n",
        "        return attempts-1\n",
        "def play():\n",
        "    print(logo)\n",
        "#Number Guessing Game Objectives:\n",
        "    print(\"Welcome to the Number Guessing Game!\")\n",
        "    print(\"I'm thinking of a number between 1 and 100\")\n",
        "    generate_num=random.randint(1,100)\n",
        "    turns=set_difficulty()\n",
        "\n",
        "    while turns != 0:\n",
        "        print(f\"You have {turns} attempts remaining to guess the number\")\n",
        "        guess=int(input(\"Make a guess:\"))\n",
        "        turns=compare(guess,generate_num,turns)\n",
        "        if turns == 0 and guess !=generate_num:\n",
        "            print(\"You have run out of guess, you lose\")\n",
        "        else:\n",
        "            print(\"guess again\")\n",
        "\n",
        "play()"
      ],
      "metadata": {
        "colab": {
          "base_uri": "https://localhost:8080/"
        },
        "id": "5x4i2gdrcwwy",
        "outputId": "64fcdffe-cb7a-4674-dc74-15f5c8a7cf17"
      },
      "execution_count": 31,
      "outputs": [
        {
          "output_type": "stream",
          "name": "stdout",
          "text": [
            "\n",
            "  ________ ____ ______________ _________ _________ ______________ ______________  _______   ____ ___  _____ _______________________________ \n",
            " /  _____/|    |   \\_   _____//   _____//   _____/ \\__    ___/   |   \\_   _____/  \\      \\ |    |   \\/     \\______   \\_   _____/\\______   /   \\  ___|    |   /|    __)_ \\_____  \\ \\_____  \\    |    | /    ~    \\    __)_   /   |   \\|    |   /  \\ /  \\|    |  _/|    __)_  |       _/\n",
            "\\    \\_\\  \\    |  / |        \\/        \\/        \\   |    | \\    Y    /        \\ /    |    \\    |  /    Y    \\    |   \\|        \\ |    |    \\______  /______/ /_______  /_______  /_______  /   |____|  \\___|_  /_______  / \\____|__  /______/\\____|__  /______  /_______  / |____|_  /\n",
            "        \\/                 \\/        \\/        \\/                  \\/        \\/          \\/                \\/       \\/        \\/         \\/ \n",
            "\n",
            "Welcome to the Number Guessing Game!\n",
            "I'm thinking of a number between 1 and 100\n",
            "Choose a difficulty. Type 'easy' or 'hard':hard\n",
            "You have 5 attempts remaining to guess the number\n",
            "Make a guess:50\n",
            "Too low.\n",
            "guess again\n",
            "You have 4 attempts remaining to guess the number\n",
            "Make a guess:80\n",
            "Too low.\n",
            "guess again\n",
            "You have 3 attempts remaining to guess the number\n",
            "Make a guess:90\n",
            "Too low.\n",
            "guess again\n",
            "You have 2 attempts remaining to guess the number\n",
            "Make a guess:95\n",
            "Too high.\n",
            "guess again\n",
            "You have 1 attempts remaining to guess the number\n",
            "Make a guess:94\n",
            "Too high.\n",
            "You have run out of guess, you lose\n"
          ]
        }
      ]
    },
    {
      "cell_type": "code",
      "execution_count": 11,
      "metadata": {
        "colab": {
          "base_uri": "https://localhost:8080/"
        },
        "id": "GK9RLus_HnuZ",
        "outputId": "f5c7175d-6062-40a6-c895-6552ed641d84"
      },
      "outputs": [
        {
          "output_type": "stream",
          "name": "stdout",
          "text": [
            "enemies inside function: 2\n",
            "enemies outside function: 1\n",
            "enemies inside function: 2\n",
            "enemies outside function: 2\n"
          ]
        }
      ],
      "source": [
        "#scope\n",
        "enemies = 1\n",
        "\n",
        "def increase_enemies():\n",
        "  enemies = 2 #this one is entire new variable as the global enemies\n",
        "  #however, bad idea that use the same name\n",
        "  print(f\"enemies inside function: {enemies}\")\n",
        "\n",
        "increase_enemies()\n",
        "print(f\"enemies outside function: {enemies}\")\n",
        "\n",
        "#modifying global scope\n",
        "enemies_edit = 1\n",
        "\n",
        "def increase_enemies_edit():\n",
        "    #if you want to edit this global scope, you should first say it in the local area\n",
        "    global enemies_edit #we won't use it frequently because it's confusing\n",
        "    enemies_edit += 1\n",
        "  #however, bad idea that use the same name\n",
        "    print(f\"enemies inside function: {enemies_edit}\")\n",
        "\n",
        "increase_enemies_edit()\n",
        "print(f\"enemies outside function: {enemies_edit}\") # now it's chaned for global\n",
        "#avoid modifying global variable in function(local)"
      ]
    },
    {
      "cell_type": "code",
      "source": [
        "#better way instead of modify\n",
        "enemies_edit_better = 1\n",
        "\n",
        "def increase_enemies_edit_better():\n",
        "    print(f\"enemies inside function: {enemies_edit_better}\")\n",
        "    return enemies_edit_better +1 #return the number that you want to changed to\n",
        "    #but you didn't define or modify it in the function\n",
        "    # just return the number you want\n",
        "#then modify in the global place\n",
        "enemies_edit_better = increase_enemies_edit_better()\n",
        "print(f\"enemies outside function: {enemies_edit_better}\")"
      ],
      "metadata": {
        "colab": {
          "base_uri": "https://localhost:8080/"
        },
        "id": "9fbfTpeQOofE",
        "outputId": "99d16f5e-f049-4e96-bc9c-da8028ac9f38"
      },
      "execution_count": 13,
      "outputs": [
        {
          "output_type": "stream",
          "name": "stdout",
          "text": [
            "enemies inside function: 1\n",
            "enemies outside function: 2\n"
          ]
        }
      ]
    },
    {
      "cell_type": "code",
      "source": [
        "#local scope\n",
        "def drink():\n",
        "    choice = \"coke\"\n",
        "    print(choice)\n",
        "\n",
        "drink()\n",
        "print(choice)#choice is not defined\n",
        "# a new variable that defined within a function, you can only access it in the function"
      ],
      "metadata": {
        "colab": {
          "base_uri": "https://localhost:8080/",
          "height": 225
        },
        "id": "RGYiLGmgIqsR",
        "outputId": "9babdfbc-6ac8-4bcc-c61c-dbaa7f0f16f3"
      },
      "execution_count": 2,
      "outputs": [
        {
          "output_type": "stream",
          "name": "stdout",
          "text": [
            "coke\n"
          ]
        },
        {
          "output_type": "error",
          "ename": "NameError",
          "evalue": "ignored",
          "traceback": [
            "\u001b[0;31m---------------------------------------------------------------------------\u001b[0m",
            "\u001b[0;31mNameError\u001b[0m                                 Traceback (most recent call last)",
            "\u001b[0;32m<ipython-input-2-b379ec806fe2>\u001b[0m in \u001b[0;36m<cell line: 7>\u001b[0;34m()\u001b[0m\n\u001b[1;32m      5\u001b[0m \u001b[0;34m\u001b[0m\u001b[0m\n\u001b[1;32m      6\u001b[0m \u001b[0mdrink\u001b[0m\u001b[0;34m(\u001b[0m\u001b[0;34m)\u001b[0m\u001b[0;34m\u001b[0m\u001b[0;34m\u001b[0m\u001b[0m\n\u001b[0;32m----> 7\u001b[0;31m \u001b[0mprint\u001b[0m\u001b[0;34m(\u001b[0m\u001b[0mchoice\u001b[0m\u001b[0;34m)\u001b[0m\u001b[0;31m#choice is not defined\u001b[0m\u001b[0;34m\u001b[0m\u001b[0;34m\u001b[0m\u001b[0m\n\u001b[0m",
            "\u001b[0;31mNameError\u001b[0m: name 'choice' is not defined"
          ]
        }
      ]
    },
    {
      "cell_type": "code",
      "source": [
        "#GLOBAL SCOPE\n",
        "name=\"ESTHER\"# available anywhere of the file after this created\n",
        "def drink():\n",
        "    choice = \"coke\"\n",
        "    print(choice)\n",
        "    print(name)#name is a global variable that can be access within or outside the function\n",
        "\n",
        "drink()\n"
      ],
      "metadata": {
        "colab": {
          "base_uri": "https://localhost:8080/"
        },
        "id": "j4_43sl4JB8O",
        "outputId": "b3737a47-f37a-4b66-dd78-cbeba195de07"
      },
      "execution_count": 3,
      "outputs": [
        {
          "output_type": "stream",
          "name": "stdout",
          "text": [
            "coke\n",
            "ESTHER\n"
          ]
        }
      ]
    },
    {
      "cell_type": "code",
      "source": [
        "#namescape\n",
        "name=\"ESTHER\"# available anywhere of the file after this created\n",
        "#every variable, or function, the name we defined has a namescape, now the name drink() is global scope\n",
        "def drink():\n",
        "    choice = \"coke\"\n",
        "    print(choice)\n",
        "    print(name)\n",
        "\n",
        "def food():\n",
        "    def drink_local():\n",
        "        choice = \"coke\"\n",
        "        print(choice)\n",
        "        print(name)\n",
        "\n",
        "#drink()#we can access global name\n",
        "drink_local()#cannot access local name\n"
      ],
      "metadata": {
        "colab": {
          "base_uri": "https://localhost:8080/",
          "height": 207
        },
        "id": "_zciIIGwJia0",
        "outputId": "bac2ca99-04e0-442d-d33c-5d4df9c0ade4"
      },
      "execution_count": 7,
      "outputs": [
        {
          "output_type": "error",
          "ename": "NameError",
          "evalue": "ignored",
          "traceback": [
            "\u001b[0;31m---------------------------------------------------------------------------\u001b[0m",
            "\u001b[0;31mNameError\u001b[0m                                 Traceback (most recent call last)",
            "\u001b[0;32m<ipython-input-7-ce0c04aaf7b5>\u001b[0m in \u001b[0;36m<cell line: 17>\u001b[0;34m()\u001b[0m\n\u001b[1;32m     15\u001b[0m \u001b[0;31m#drink()#we can access global name\u001b[0m\u001b[0;34m\u001b[0m\u001b[0;34m\u001b[0m\u001b[0m\n\u001b[1;32m     16\u001b[0m \u001b[0mfood\u001b[0m\u001b[0;34m(\u001b[0m\u001b[0;34m)\u001b[0m\u001b[0;34m\u001b[0m\u001b[0;34m\u001b[0m\u001b[0m\n\u001b[0;32m---> 17\u001b[0;31m \u001b[0mdrink_local\u001b[0m\u001b[0;34m(\u001b[0m\u001b[0;34m)\u001b[0m\u001b[0;31m#cannot access local name\u001b[0m\u001b[0;34m\u001b[0m\u001b[0;34m\u001b[0m\u001b[0m\n\u001b[0m",
            "\u001b[0;31mNameError\u001b[0m: name 'drink_local' is not defined"
          ]
        }
      ]
    },
    {
      "cell_type": "code",
      "source": [
        "#namescape\n",
        "name=\"ESTHER\"# available anywhere of the file after this created\n",
        "#every variable, or function, the name we defined has a namescape, now the name drink() is global scope\n",
        "def drink():\n",
        "    choice = \"coke\"\n",
        "    print(choice)\n",
        "    print(name)\n",
        "\n",
        "def food():\n",
        "    def drink_local():\n",
        "        choice = \"coke\"\n",
        "        print(choice)\n",
        "        print(name)\n",
        "    drink_local()#use locally in local scope\n",
        "\n",
        "#drink()#we can access global name\n",
        "#cannot access local name\n",
        "food()"
      ],
      "metadata": {
        "colab": {
          "base_uri": "https://localhost:8080/"
        },
        "id": "eBAOlI0oKaVb",
        "outputId": "99700168-363e-439f-f866-9d50892e2438"
      },
      "execution_count": 8,
      "outputs": [
        {
          "output_type": "stream",
          "name": "stdout",
          "text": [
            "coke\n",
            "ESTHER\n"
          ]
        }
      ]
    },
    {
      "cell_type": "code",
      "source": [
        "#PYTHON DO NOT HAVE BLOCK SCOPE\n",
        "# when you define variable in ifelse, this ifelse not treated as fence\n",
        "game_level=3\n",
        "enemies = [\"Skeleton\",\"Zombie\",\"Alien\"]\n",
        "if game_level<5:\n",
        "    new_enemies=enemies[0]\n",
        "\n",
        "print(new_enemies)\n",
        "# above is valid code\n",
        "# because all are global\n",
        "\n"
      ],
      "metadata": {
        "id": "wj5B-oeKKn98"
      },
      "execution_count": null,
      "outputs": []
    },
    {
      "cell_type": "code",
      "source": [
        "#if we use function, then things in the function is local\n",
        "game_level_2=3\n",
        "def creat_enemy():\n",
        "    enemies = [\"Skeleton\",\"Zombie\",\"Alien\"]\n",
        "    if game_level_2<5:\n",
        "        new_enemies_2=enemies[0]\n",
        "    print(new_enemies_2)\n",
        "\n",
        "#print(new_enemies_2)# now you can not access new_enemies_2 because it can only be used within the function\n",
        "creat_enemy()"
      ],
      "metadata": {
        "colab": {
          "base_uri": "https://localhost:8080/"
        },
        "id": "p0acfCB6LrmP",
        "outputId": "717ae457-6147-493d-ddfb-b104483f8144"
      },
      "execution_count": 10,
      "outputs": [
        {
          "output_type": "stream",
          "name": "stdout",
          "text": [
            "Skeleton\n"
          ]
        }
      ]
    },
    {
      "cell_type": "code",
      "source": [
        "#global constants\n",
        "#when you want to use a number that don't want to change\n",
        "pi=3.1415926\n",
        "def cal():\n",
        "    pi\n"
      ],
      "metadata": {
        "id": "mm576j2nPW31"
      },
      "execution_count": 14,
      "outputs": []
    }
  ]
}