{
  "nbformat": 4,
  "nbformat_minor": 0,
  "metadata": {
    "colab": {
      "provenance": [],
      "authorship_tag": "ABX9TyMJVjOYE3plmTJ/QSW57Pb3",
      "include_colab_link": true
    },
    "kernelspec": {
      "name": "python3",
      "display_name": "Python 3"
    },
    "language_info": {
      "name": "python"
    }
  },
  "cells": [
    {
      "cell_type": "markdown",
      "metadata": {
        "id": "view-in-github",
        "colab_type": "text"
      },
      "source": [
        "<a href=\"https://colab.research.google.com/github/Esssssther/100PythonProject/blob/main/Day_4_rock_paper_sicssors.ipynb\" target=\"_parent\"><img src=\"https://colab.research.google.com/assets/colab-badge.svg\" alt=\"Open In Colab\"/></a>"
      ]
    },
    {
      "cell_type": "code",
      "execution_count": null,
      "metadata": {
        "colab": {
          "base_uri": "https://localhost:8080/"
        },
        "id": "5GesPqyKFxZ1",
        "outputId": "edf3c503-e220-4091-91fc-e76dd20ca7c6"
      },
      "outputs": [
        {
          "output_type": "stream",
          "name": "stdout",
          "text": [
            "3\n",
            "0.9711168009087077\n",
            "3.314007509066268\n",
            "your love score is 5\n"
          ]
        }
      ],
      "source": [
        "import random #random module\n",
        "\n",
        "random_int = random.randint(1,10)\n",
        "print(random_int)\n",
        "\n",
        "random_float = random.random()  # will give random number [0,1) from 0.00000..- 0.9999999...\n",
        "print(random_float)\n",
        "\n",
        "random_between_0_to_5 = 5*random.random()  # will give random number [0,5)\n",
        "print(random_between_0_to_5)\n",
        "\n",
        "love_score= random.randint(1,100)\n",
        "#Return a random integer N such that a <= N <= b. Alias for randrange(a, b+1).\n",
        "print(f\"your love score is {love_score}\")"
      ]
    },
    {
      "cell_type": "code",
      "source": [
        "# List\n",
        "# fruits = [item1,item2]\n",
        "fruits = [\"Cherry\",\"Apple\",\"Pear\"]\n",
        "print(fruits)"
      ],
      "metadata": {
        "colab": {
          "base_uri": "https://localhost:8080/"
        },
        "id": "bNh8ivLSPdR3",
        "outputId": "5f54eb76-3027-4861-8dcb-e0df257dc2a3"
      },
      "execution_count": null,
      "outputs": [
        {
          "output_type": "stream",
          "name": "stdout",
          "text": [
            "['Cherry', 'Apple', 'Pear']\n"
          ]
        }
      ]
    },
    {
      "cell_type": "code",
      "source": [
        "states_of_america = [\"Delaware\", \"Pennsylvania\", \"New Jersey\", \"Georgia\", \"Connecticut\",\n",
        "                     \"Massachusetts\", \"Maryland\", \"South Carolina\", \"New Hampshire\",\n",
        "                     \"Virginia\", \"New York\", \"North Carolina\", \"Rhode Island\", \"Vermont\",\n",
        "                     \"Kentucky\", \"Tennessee\", \"Ohio\", \"Louisiana\", \"Indiana\", \"Mississippi\",\n",
        "                     \"Illinois\", \"Alabama\", \"Maine\", \"Missouri\", \"Arkansas\", \"Michigan\",\n",
        "                     \"Florida\", \"Texas\", \"Iowa\", \"Wisconsin\", \"California\", \"Minnesota\",\n",
        "                     \"Oregon\", \"Kansas\", \"West Virginia\", \"Nevada\", \"Nebraska\", \"Colorado\",\n",
        "                     \"North Dakota\", \"South Dakota\", \"Montana\", \"Washington\", \"Idaho\",\n",
        "                     \"Wyoming\", \"Utah\", \"Oklahoma\", \"New Mexico\", \"Arizona\", \"Alaska\",\n",
        "                     \"Hawaii\"]\n"
      ],
      "metadata": {
        "id": "FbE9nRyVP5XA"
      },
      "execution_count": null,
      "outputs": []
    },
    {
      "cell_type": "code",
      "source": [
        "print(states_of_america[0]) #first one is 0\n",
        "#use []to create list, also use [] to get things from the list\n"
      ],
      "metadata": {
        "colab": {
          "base_uri": "https://localhost:8080/"
        },
        "id": "UXsLpDSYQkWx",
        "outputId": "9841332b-50e4-4fad-9241-85aff038b04c"
      },
      "execution_count": null,
      "outputs": [
        {
          "output_type": "stream",
          "name": "stdout",
          "text": [
            "Delaware\n"
          ]
        }
      ]
    },
    {
      "cell_type": "code",
      "source": [
        "print(states_of_america[-1])#last item in the list"
      ],
      "metadata": {
        "colab": {
          "base_uri": "https://localhost:8080/"
        },
        "id": "dlNs2-rUQ4ua",
        "outputId": "2d7f28ca-6f3a-4dff-d63e-14dd1363cc42"
      },
      "execution_count": null,
      "outputs": [
        {
          "output_type": "stream",
          "name": "stdout",
          "text": [
            "Hawaii\n"
          ]
        }
      ]
    },
    {
      "cell_type": "code",
      "source": [
        "states_of_america[0]=\"ddddlawre\" #list can be changed\n",
        "print(states_of_america)"
      ],
      "metadata": {
        "colab": {
          "base_uri": "https://localhost:8080/"
        },
        "id": "XNQ1IIWcQ_3k",
        "outputId": "e39ea2ad-4a39-40cd-fffc-40f07b6e6539"
      },
      "execution_count": null,
      "outputs": [
        {
          "output_type": "stream",
          "name": "stdout",
          "text": [
            "['ddddlawre', 'Pennsylvania', 'New Jersey', 'Georgia', 'Connecticut', 'Massachusetts', 'Maryland', 'South Carolina', 'New Hampshire', 'Virginia', 'New York', 'North Carolina', 'Rhode Island', 'Vermont', 'Kentucky', 'Tennessee', 'Ohio', 'Louisiana', 'Indiana', 'Mississippi', 'Illinois', 'Alabama', 'Maine', 'Missouri', 'Arkansas', 'Michigan', 'Florida', 'Texas', 'Iowa', 'Wisconsin', 'California', 'Minnesota', 'Oregon', 'Kansas', 'West Virginia', 'Nevada', 'Nebraska', 'Colorado', 'North Dakota', 'South Dakota', 'Montana', 'Washington', 'Idaho', 'Wyoming', 'Utah', 'Oklahoma', 'New Mexico', 'Arizona', 'Alaska', 'Hawaii']\n"
          ]
        }
      ]
    },
    {
      "cell_type": "code",
      "source": [
        "states_of_america.append(\"Esther\") #add one item to the end of the list\n",
        "print(states_of_america)"
      ],
      "metadata": {
        "colab": {
          "base_uri": "https://localhost:8080/"
        },
        "id": "q39Sk_fnRJBD",
        "outputId": "fcf0ed0b-596b-4896-ff93-d2c270c53d87"
      },
      "execution_count": null,
      "outputs": [
        {
          "output_type": "stream",
          "name": "stdout",
          "text": [
            "['ddddlawre', 'Pennsylvania', 'New Jersey', 'Georgia', 'Connecticut', 'Massachusetts', 'Maryland', 'South Carolina', 'New Hampshire', 'Virginia', 'New York', 'North Carolina', 'Rhode Island', 'Vermont', 'Kentucky', 'Tennessee', 'Ohio', 'Louisiana', 'Indiana', 'Mississippi', 'Illinois', 'Alabama', 'Maine', 'Missouri', 'Arkansas', 'Michigan', 'Florida', 'Texas', 'Iowa', 'Wisconsin', 'California', 'Minnesota', 'Oregon', 'Kansas', 'West Virginia', 'Nevada', 'Nebraska', 'Colorado', 'North Dakota', 'South Dakota', 'Montana', 'Washington', 'Idaho', 'Wyoming', 'Utah', 'Oklahoma', 'New Mexico', 'Arizona', 'Alaska', 'Hawaii', 'Esther']\n"
          ]
        }
      ]
    },
    {
      "cell_type": "code",
      "source": [
        "states_of_america.extend([\"Esther\",\"dante\",\"Joey\"]) #add one item to the end of the list\n",
        "print(states_of_america) # multiple item to the list\n",
        "#extend([]) must be a list inside\n",
        "#it's okay that you have same item in the list"
      ],
      "metadata": {
        "colab": {
          "base_uri": "https://localhost:8080/"
        },
        "id": "h2jbex7bRXQT",
        "outputId": "3fc8d437-2469-43ad-f8b0-bf34b5bbeee1"
      },
      "execution_count": null,
      "outputs": [
        {
          "output_type": "stream",
          "name": "stdout",
          "text": [
            "['ddddlawre', 'Pennsylvania', 'New Jersey', 'Georgia', 'Connecticut', 'Massachusetts', 'Maryland', 'South Carolina', 'New Hampshire', 'Virginia', 'New York', 'North Carolina', 'Rhode Island', 'Vermont', 'Kentucky', 'Tennessee', 'Ohio', 'Louisiana', 'Indiana', 'Mississippi', 'Illinois', 'Alabama', 'Maine', 'Missouri', 'Arkansas', 'Michigan', 'Florida', 'Texas', 'Iowa', 'Wisconsin', 'California', 'Minnesota', 'Oregon', 'Kansas', 'West Virginia', 'Nevada', 'Nebraska', 'Colorado', 'North Dakota', 'South Dakota', 'Montana', 'Washington', 'Idaho', 'Wyoming', 'Utah', 'Oklahoma', 'New Mexico', 'Arizona', 'Alaska', 'Hawaii', 'Esther', 'Esther', 'dante', 'Joey']\n"
          ]
        }
      ]
    },
    {
      "cell_type": "code",
      "source": [
        "# Import the random module here\n",
        "import random\n",
        "# Split string method\n",
        "names_string = input(\"Give me everybody's names, separated by a comma. \")\n",
        "names = names_string.split(\", \") # split 之后会变成list\n",
        "# 🚨 Don't change the code above 👆\n",
        "\n",
        "#Write your code below this line 👇\n",
        "#get the number of  items in list\n",
        "print(len(names))# for example 5 people, then 0 - 4\n",
        "num=random.randint(0,len(names)-1) # -1!!\n",
        "pay_people=names[num]\n",
        "print(f\"{pay_people} is going to buy the meal today!\")"
      ],
      "metadata": {
        "id": "6L6tpd89UOaG"
      },
      "execution_count": null,
      "outputs": []
    },
    {
      "cell_type": "code",
      "source": [
        "#random.choice(seq/list)\n",
        "# ramdomly pick up an item from a list/sequence\n",
        "import random\n",
        "# Split string method\n",
        "names_string = input(\"Give me everybody's names, separated by a comma. \")\n",
        "names = names_string.split(\", \") # split 之后会变成list\n",
        "# 🚨 Don't change the code above 👆\n",
        "\n",
        "#Write your code below this line 👇\n",
        "#get the number of  items in list\n",
        "\n",
        "pay_people=random.choice(names)\n",
        "print(f\"{pay_people} is going to buy the meal today!\")"
      ],
      "metadata": {
        "colab": {
          "base_uri": "https://localhost:8080/"
        },
        "id": "BYBGtLOTU3wL",
        "outputId": "bcd2004f-ef53-41b8-ea55-788e69aa0b09"
      },
      "execution_count": null,
      "outputs": [
        {
          "output_type": "stream",
          "name": "stdout",
          "text": [
            "Give me everybody's names, separated by a comma. esther, dante, joey\n",
            "dante is going to buy the meal today!\n"
          ]
        }
      ]
    },
    {
      "cell_type": "code",
      "source": [
        "states_of_america = [\"Delaware\", \"Pennsylvania\", \"New Jersey\", \"Georgia\", \"Connecticut\",\n",
        "                     \"Massachusetts\", \"Maryland\", \"South Carolina\", \"New Hampshire\",\n",
        "                     \"Virginia\", \"New York\", \"North Carolina\", \"Rhode Island\", \"Vermont\",\n",
        "                     \"Kentucky\", \"Tennessee\", \"Ohio\", \"Louisiana\", \"Indiana\", \"Mississippi\",\n",
        "                     \"Illinois\", \"Alabama\", \"Maine\", \"Missouri\", \"Arkansas\", \"Michigan\",\n",
        "                     \"Florida\", \"Texas\", \"Iowa\", \"Wisconsin\", \"California\", \"Minnesota\",\n",
        "                     \"Oregon\", \"Kansas\", \"West Virginia\", \"Nevada\", \"Nebraska\", \"Colorado\",\n",
        "                     \"North Dakota\", \"South Dakota\", \"Montana\", \"Washington\", \"Idaho\",\n",
        "                     \"Wyoming\", \"Utah\", \"Oklahoma\", \"New Mexico\", \"Arizona\", \"Alaska\",\n",
        "                     \"Hawaii\"]\n",
        "print(len(states_of_america)) #50\n",
        "print(states_of_america[49])\n"
      ],
      "metadata": {
        "colab": {
          "base_uri": "https://localhost:8080/"
        },
        "id": "sbDTWYcMV4ZU",
        "outputId": "e08f9433-269c-4616-c2ef-afdb6d75eee1"
      },
      "execution_count": null,
      "outputs": [
        {
          "output_type": "stream",
          "name": "stdout",
          "text": [
            "50\n",
            "Hawaii\n"
          ]
        }
      ]
    },
    {
      "cell_type": "code",
      "source": [
        "print(states_of_america[50]) #list index out of range"
      ],
      "metadata": {
        "colab": {
          "base_uri": "https://localhost:8080/",
          "height": 169
        },
        "id": "rK5PbyJQWDaU",
        "outputId": "c062c9bc-e32f-49c5-abf9-bbce89b9e3e8"
      },
      "execution_count": null,
      "outputs": [
        {
          "output_type": "error",
          "ename": "IndexError",
          "evalue": "ignored",
          "traceback": [
            "\u001b[0;31m---------------------------------------------------------------------------\u001b[0m",
            "\u001b[0;31mIndexError\u001b[0m                                Traceback (most recent call last)",
            "\u001b[0;32m<ipython-input-25-89fda1f8c735>\u001b[0m in \u001b[0;36m<cell line: 1>\u001b[0;34m()\u001b[0m\n\u001b[0;32m----> 1\u001b[0;31m \u001b[0mprint\u001b[0m\u001b[0;34m(\u001b[0m\u001b[0mstates_of_america\u001b[0m\u001b[0;34m[\u001b[0m\u001b[0;36m50\u001b[0m\u001b[0;34m]\u001b[0m\u001b[0;34m)\u001b[0m\u001b[0;34m\u001b[0m\u001b[0;34m\u001b[0m\u001b[0m\n\u001b[0m",
            "\u001b[0;31mIndexError\u001b[0m: list index out of range"
          ]
        }
      ]
    },
    {
      "cell_type": "code",
      "source": [
        "num_of_states=len(states_of_america)\n",
        "print(states_of_america[num_of_states-1])"
      ],
      "metadata": {
        "colab": {
          "base_uri": "https://localhost:8080/"
        },
        "id": "ThUrM8_2WH-3",
        "outputId": "a942461f-5b88-4119-e5e5-920241f637be"
      },
      "execution_count": null,
      "outputs": [
        {
          "output_type": "stream",
          "name": "stdout",
          "text": [
            "Hawaii\n"
          ]
        }
      ]
    },
    {
      "cell_type": "code",
      "source": [
        "dirty_dozen = [\"Strawberries\", \"Spinach\", \"Kale\", \"Nectarines\", \"Apples\",\n",
        "               \"Grapes\", \"Peaches\", \"Cherries\", \"Pears\", \"Tomatoes\", \"Celery\", \"Potatoes\"]\n",
        "# list contain a list called nested list 嵌套列表\n",
        "fruit=[\"Strawberries\", \"Nectarines\", \"Apples\", \"Grapes\", \"Peaches\", \"Cherries\", \"Pears\"]\n",
        "vegetables=[\"Spinach\", \"Kale\",\"Tomatoes\", \"Celery\", \"Potatoes\"]\n",
        "dirty_dozen = [fruit,vegetables]#list里套list，里面的不用引号因为是个list\n",
        "print(dirty_dozen)\n",
        "print(dirty_dozen[0])\n",
        "print(dirty_dozen[0][0])\n"
      ],
      "metadata": {
        "colab": {
          "base_uri": "https://localhost:8080/"
        },
        "id": "AR3G6hXNWc9r",
        "outputId": "522bad53-1489-434c-b55b-c9389e4f4b33"
      },
      "execution_count": null,
      "outputs": [
        {
          "output_type": "stream",
          "name": "stdout",
          "text": [
            "[['Strawberries', 'Nectarines', 'Apples', 'Grapes', 'Peaches', 'Cherries', 'Pears'], ['Spinach', 'Kale', 'Tomatoes', 'Celery', 'Potatoes']]\n",
            "['Strawberries', 'Nectarines', 'Apples', 'Grapes', 'Peaches', 'Cherries', 'Pears']\n",
            "Strawberries\n"
          ]
        }
      ]
    },
    {
      "cell_type": "code",
      "source": [
        "p=\"23\"\n",
        "p[1]"
      ],
      "metadata": {
        "colab": {
          "base_uri": "https://localhost:8080/",
          "height": 35
        },
        "id": "EGq6pJwNah38",
        "outputId": "d47dde99-9f45-49f7-cd5b-aa789d7125de"
      },
      "execution_count": null,
      "outputs": [
        {
          "output_type": "execute_result",
          "data": {
            "text/plain": [
              "'3'"
            ],
            "application/vnd.google.colaboratory.intrinsic+json": {
              "type": "string"
            }
          },
          "metadata": {},
          "execution_count": 34
        }
      ]
    },
    {
      "cell_type": "code",
      "source": [
        "# 🚨 Don't change the code below 👇\n",
        "row1 = [\"😝\",\"️😝\",\"️😝\"]\n",
        "row2 = [\"😝\",\"😝\",\"️😝\"]\n",
        "row3 = [\"😝️\",\"😝️\",\"😝️\"]\n",
        "map = [row1, row2, row3]\n",
        "print(f\"{row1}\\n{row2}\\n{row3}\")\n",
        "position = input(\"Where do you want to put the treasure? \")\n",
        "# 🚨 Don't change the code above 👆\n",
        "\n",
        "#Write your code below this row 👇\n",
        "col=int(position[0])#get the first in the string\n",
        "row=int(position[1])\n",
        "map[row-1][col-1]=\"🤪\"\n",
        "\n",
        "\n",
        "#print(map)\n",
        "\n",
        "#Write your code above this row 👆\n",
        "\n",
        "# 🚨 Don't change the code below 👇\n",
        "print(f\"{row1}\\n{row2}\\n{row3}\")"
      ],
      "metadata": {
        "colab": {
          "base_uri": "https://localhost:8080/"
        },
        "id": "4m0emyRycDuP",
        "outputId": "083a1a08-314d-4f16-8e0e-1072d5128545"
      },
      "execution_count": null,
      "outputs": [
        {
          "output_type": "stream",
          "name": "stdout",
          "text": [
            "['😝', '️😝', '️😝']\n",
            "['😝', '😝', '️😝']\n",
            "['😝️', '😝️', '😝️']\n",
            "Where do you want to put the treasure? 22\n",
            "['😝', '️😝', '️😝']\n",
            "['😝', '🤪', '️😝']\n",
            "['😝️', '😝️', '😝️']\n"
          ]
        }
      ]
    },
    {
      "cell_type": "code",
      "source": [
        "rock = '''\n",
        "    _______\n",
        "---'   ____)\n",
        "      (_____)\n",
        "      (_____)\n",
        "      (____)\n",
        "---.__(___)\n",
        "'''\n",
        "\n",
        "paper = '''\n",
        "    _______\n",
        "---'   ____)____\n",
        "          ______)\n",
        "          _______)\n",
        "         _______)\n",
        "---.__________)\n",
        "'''\n",
        "\n",
        "scissors = '''\n",
        "    _______\n",
        "---'   ____)____\n",
        "          ______)\n",
        "       __________)\n",
        "      (____)\n",
        "---.__(___)\n",
        "'''\n",
        "\n",
        "#Write your code below this line 👇\n",
        "import random\n",
        "rps=[rock,paper,scissors]\n",
        "player=int(input(\"What do you choose? Type 0 for Rock, 1 for Paper or 2 for Scissors.\"))\n",
        "if player > 2 or player <0:\n",
        "  print(\"You type an invalid number\")\n",
        "else:\n",
        "  player_rps=rps[player]\n",
        "  print(player_rps)\n",
        "  computer=random.choice(rps)\n",
        "  print(\"Computer chose:\"+computer)\n",
        "  if player_rps == rock:\n",
        "    if computer == rock:\n",
        "      print(\"Same, Try again\")\n",
        "    elif computer == scissors:\n",
        "      print(\"You win!\")\n",
        "    else:\n",
        "      print(\"You lose!\")\n",
        "  if player_rps == scissors:\n",
        "    if computer == rock:\n",
        "      print(\"You lose!\")\n",
        "    elif computer == scissors:\n",
        "      print(\"Same, Try again\")\n",
        "    else:\n",
        "      print(\"You win!\")\n",
        "  if player_rps == paper:\n",
        "    if computer == rock:\n",
        "      print(\"You win!\")\n",
        "    elif computer == scissors:\n",
        "      print(\"You lose!\")\n",
        "    else:\n",
        "      print(\"Same, Try again\")\n"
      ],
      "metadata": {
        "colab": {
          "base_uri": "https://localhost:8080/"
        },
        "id": "rUYTpSWWeI84",
        "outputId": "6c2a408c-d1d5-4d56-92a6-c53d4c2b313d"
      },
      "execution_count": null,
      "outputs": [
        {
          "output_type": "stream",
          "name": "stdout",
          "text": [
            "What do you choose? Type 0 for Rock, 1 for Paper or 2 for Scissors.2\n",
            "\n",
            "    _______\n",
            "---'   ____)____\n",
            "          ______)\n",
            "       __________)\n",
            "      (____)\n",
            "---.__(___)\n",
            "\n",
            "Computer chose:\n",
            "    _______\n",
            "---'   ____)____\n",
            "          ______)\n",
            "          _______)\n",
            "         _______)\n",
            "---.__________)\n",
            "\n",
            "You win!\n"
          ]
        }
      ]
    }
  ]
}