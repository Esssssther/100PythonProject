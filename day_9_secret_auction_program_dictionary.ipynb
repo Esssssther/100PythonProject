{
  "nbformat": 4,
  "nbformat_minor": 0,
  "metadata": {
    "colab": {
      "provenance": [],
      "authorship_tag": "ABX9TyPIvGvMd5sxmXbMIeHzkR1D",
      "include_colab_link": true
    },
    "kernelspec": {
      "name": "python3",
      "display_name": "Python 3"
    },
    "language_info": {
      "name": "python"
    }
  },
  "cells": [
    {
      "cell_type": "markdown",
      "metadata": {
        "id": "view-in-github",
        "colab_type": "text"
      },
      "source": [
        "<a href=\"https://colab.research.google.com/github/Esssssther/100PythonProject/blob/main/day_9_secret_auction_program_dictionary.ipynb\" target=\"_parent\"><img src=\"https://colab.research.google.com/assets/colab-badge.svg\" alt=\"Open In Colab\"/></a>"
      ]
    },
    {
      "cell_type": "code",
      "source": [
        "logo = '''\n",
        "                         ___________\n",
        "                         \\         /\n",
        "                          )_______(\n",
        "                          |\"\"\"\"\"\"\"|_.-._,.---------.,_.-._\n",
        "                          |       | | |               | | ''-.\n",
        "                          |       |_| |_             _| |_..-'\n",
        "                          |_______| '-' `'---------'` '-'\n",
        "                          )\"\"\"\"\"\"\"(\n",
        "                         /_________\\\\\n",
        "                       .-------------.\n",
        "                      /_______________\\\\\n",
        "'''\n",
        "print(logo)\n",
        "# blind auction program\n",
        "#from replit import clear\n",
        "from google.colab import output\n",
        "# clear the output in the console.\n",
        "\n",
        "\n",
        "person_info={}\n",
        "more_person=1\n",
        "\n",
        "#def highest():\n",
        "\n",
        "\n",
        "\n",
        "while more_person !=0:\n",
        "    name=input(\"What is your name?\")\n",
        "    bid_price=float(input(\"What is your bid price? $\"))\n",
        "    person_info[name]=bid_price\n",
        "    more_person=input(\"Is there any other person in the bid? Yes or No\").lower()\n",
        "    if more_person==\"no\":\n",
        "        more_person=0\n",
        "    elif more_person ==\"yes\":\n",
        "        output.clear()\n",
        "\n",
        "highest_bid=0\n",
        "winner=\"\"\n",
        "for name in person_info:\n",
        "    if person_info[name]>highest_bid:\n",
        "        highest_bid=person_info[name]\n",
        "        winner=name\n",
        "\n",
        "print(f\"the winner is {winner} and the highest bid price is {highest_bid}\")"
      ],
      "metadata": {
        "colab": {
          "base_uri": "https://localhost:8080/"
        },
        "id": "-jmg9vThJEUY",
        "outputId": "9ad30259-d6ec-4e0d-cba2-194a786c26ab"
      },
      "execution_count": 34,
      "outputs": [
        {
          "output_type": "stream",
          "name": "stdout",
          "text": [
            "What is your name?c\n",
            "What is your bid price? $70\n",
            "Is there any other person in the bid? Yes or Nono\n",
            "the winner is b and the highest bid price is 88.0\n"
          ]
        }
      ]
    },
    {
      "cell_type": "code",
      "execution_count": 7,
      "metadata": {
        "id": "Dxbfy-n9-3an",
        "colab": {
          "base_uri": "https://localhost:8080/"
        },
        "outputId": "d73737b5-b15f-42a9-a2d3-58c36aa95f36"
      },
      "outputs": [
        {
          "output_type": "stream",
          "name": "stdout",
          "text": [
            "An error in a program that prevents the program from running as expected.\n",
            "apple \n",
            "I changed the value\n",
            "{'key': 'I changed the value', 123: 'apple ', 'new': 'new things added'}\n"
          ]
        }
      ],
      "source": [
        "programming_dictionary = {\n",
        "    \"Bug\": \"An error in a program that prevents the program from running as expected.\",\n",
        "    \"Function\": \"A piece of code that you can easily call over and over again.\",\n",
        "    \"Loop\":\"The action of doing something over and over again\",}\n",
        "# add a , in the end is a good habit\n",
        "dic={\n",
        "    \"key\":\"value\",\n",
        "     123: \"apple \",}\n",
        "\n",
        "#use\n",
        "print(programming_dictionary[\"Bug\"]) # Use the key in the [] to get our value, but make sure\n",
        "#type the key correctly\n",
        "# now we define the key a string, so use string in []\n",
        "print(dic[123])# if we define the key as a int, use int in [] !!match!!\n",
        "dic[\"key\"]=\"I changed the value\"\n",
        "# Edit an item in dictionary\n",
        "print(dic[\"key\"])\n",
        "#add a new thing in dictionary\n",
        "dic[\"new\"]=\"new things added\"\n",
        "print(dic)\n"
      ]
    },
    {
      "cell_type": "code",
      "source": [
        "#create an empty dictionary\n",
        "empty_dic={}\n",
        "#add things in the empty dictionary\n",
        "empty_dic[\"first_key\"]=\"This is the first content\"\n",
        "print(empty_dic)"
      ],
      "metadata": {
        "colab": {
          "base_uri": "https://localhost:8080/"
        },
        "id": "7R8SsbE99cAp",
        "outputId": "73caa9ea-8059-4921-d35f-81c7a1cdb9e3"
      },
      "execution_count": 5,
      "outputs": [
        {
          "output_type": "stream",
          "name": "stdout",
          "text": [
            "{'first_key': 'This is the first content'}\n"
          ]
        }
      ]
    },
    {
      "cell_type": "code",
      "source": [
        "#wipe an existing dictionary\n",
        "print(empty_dic)\n",
        "empty_dic={}#wiped - used for example when game restart\n",
        "print(empty_dic)\n"
      ],
      "metadata": {
        "colab": {
          "base_uri": "https://localhost:8080/"
        },
        "id": "Bq06NApc9yUe",
        "outputId": "4dd03f49-5470-4cc2-ff7e-85b1f53d7463"
      },
      "execution_count": 6,
      "outputs": [
        {
          "output_type": "stream",
          "name": "stdout",
          "text": [
            "{'first_key': 'This is the first content'}\n",
            "{}\n"
          ]
        }
      ]
    },
    {
      "cell_type": "code",
      "source": [
        "#Loop through a dictionary\n",
        "for things in programming_dictionary:\n",
        "    print(things)\n",
        "#print key\n",
        "# so when we use for i in a dic, this i = key"
      ],
      "metadata": {
        "colab": {
          "base_uri": "https://localhost:8080/"
        },
        "id": "WFveR-sx-WAu",
        "outputId": "1d66bdf2-b696-47c5-ea69-ae500e7ff2be"
      },
      "execution_count": 8,
      "outputs": [
        {
          "output_type": "stream",
          "name": "stdout",
          "text": [
            "Bug\n",
            "Function\n",
            "Loop\n"
          ]
        }
      ]
    },
    {
      "cell_type": "code",
      "source": [
        "#Loop through a dictionary\n",
        "for key in programming_dictionary:\n",
        "    print(programming_dictionary[key])\n",
        "#get the value, print value"
      ],
      "metadata": {
        "colab": {
          "base_uri": "https://localhost:8080/"
        },
        "id": "w_Uy9Fof-gdH",
        "outputId": "591a0c5e-94af-4ca9-d563-c1e88e5ad1f9"
      },
      "execution_count": 9,
      "outputs": [
        {
          "output_type": "stream",
          "name": "stdout",
          "text": [
            "An error in a program that prevents the program from running as expected.\n",
            "A piece of code that you can easily call over and over again.\n",
            "The action of doing something over and over again\n"
          ]
        }
      ]
    },
    {
      "cell_type": "code",
      "source": [
        "student_scores = {\n",
        "  \"Harry\": 81,\n",
        "  \"Ron\": 78,\n",
        "  \"Hermione\": 99,\n",
        "  \"Draco\": 74,\n",
        "  \"Neville\": 62,\n",
        "}\n",
        "# 🚨 Don't change the code above 👆\n",
        "\n",
        "#TODO-1: Create an empty dictionary called student_grades.\n",
        "student_grades={}\n",
        "\n",
        "\n",
        "#TODO-2: Write your code below to add the grades to student_grades.👇\n",
        "\n",
        "for student in student_scores:\n",
        "    if student_scores[student]>=91:\n",
        "        student_grades[student]=\"Outstanding\"\n",
        "    elif student_scores[student]>=81:\n",
        "        student_grades[student]=\"Exceeds Expectations\"\n",
        "    elif student_scores[student]>=71:\n",
        "        student_grades[student]=\"Acceptable\"\n",
        "    else:\n",
        "        student_grades[student]=\"Fail\"\n",
        "\n",
        "# 🚨 Don't change the code below 👇\n",
        "print(student_grades)"
      ],
      "metadata": {
        "id": "wE1UDFlJDXM1"
      },
      "execution_count": null,
      "outputs": []
    },
    {
      "cell_type": "code",
      "source": [
        "# Nesting 嵌套\n",
        "#{\n",
        "#    key:[list]\n",
        "#    key2:{Dict}}\n",
        "#list and dictionary nest in a dictionary\n",
        "#each key can only have one value\n",
        "#, so that's why when we want to record several value for one key\n",
        "#we want to nest\n",
        "\n",
        "travel_log={\n",
        "    \"France\":[\"Paris\",\"Dijon\"],\n",
        "    \"China\":[\"Shanghai\",\"Beijing\",\"Zhejiang\"],\n",
        "}\n",
        "\n",
        "#nesting dictionary in a dictionary\n",
        "travel_log={\n",
        "    \"France\":{\n",
        "        \"city_visites\":[\"Paris\",\"Dijon\"],\n",
        "        \"total_number_of_visit\":4\n",
        "        },\n",
        "    \"China\":{\n",
        "        \"city_visites\":[\"Shanghai\",\"Beijing\",\"Zhejiang\"],\n",
        "        \"total_number_of_visit\":7\n",
        "    }\n",
        "     ,\n",
        "}\n",
        "print(travel_log)"
      ],
      "metadata": {
        "colab": {
          "base_uri": "https://localhost:8080/"
        },
        "id": "CUXxbpJMD3vb",
        "outputId": "d88ee5e8-7be2-4521-c404-57cfd28709e9"
      },
      "execution_count": 10,
      "outputs": [
        {
          "output_type": "stream",
          "name": "stdout",
          "text": [
            "{'France': {'city_visites': ['Paris', 'Dijon'], 'total_number_of_visit': 4}, 'China': {'city_visites': ['Shanghai', 'Beijing', 'Zhejiang'], 'total_number_of_visit': 7}}\n"
          ]
        }
      ]
    },
    {
      "cell_type": "code",
      "source": [
        "#Nest dictionary in a list\n",
        "travel_log=[\n",
        "    {\n",
        "        \"country\":\"France\"\n",
        "        \"city_visites\":[\"Paris\",\"Dijon\"],\n",
        "        \"total_number_of_visit\":4\n",
        "        },\n",
        "    {\n",
        "        \"country\":\"China\",\n",
        "        \"city_visites\":[\"Shanghai\",\"Beijing\",\"Zhejiang\"],\n",
        "        \"total_number_of_visit\":7\n",
        "    }\n",
        "     ,\n",
        "]"
      ],
      "metadata": {
        "id": "2jMOmd33FyBi"
      },
      "execution_count": null,
      "outputs": []
    },
    {
      "cell_type": "code",
      "source": [
        "travel_log = [\n",
        "{\n",
        "  \"country\": \"France\",\n",
        "  \"visits\": 12,\n",
        "  \"cities\": [\"Paris\", \"Lille\", \"Dijon\"]\n",
        "},\n",
        "{\n",
        "  \"country\": \"Germany\",\n",
        "  \"visits\": 5,\n",
        "  \"cities\": [\"Berlin\", \"Hamburg\", \"Stuttgart\"]\n",
        "},\n",
        "]\n",
        "#🚨 Do NOT change the code above\n",
        "\n",
        "#TODO: Write the function that will allow new countries\n",
        "#to be added to the travel_log. 👇\n",
        "\n",
        "def add_new_country(country,visits,cities):\n",
        "    travel_log.append({\n",
        "        \"country\":country,\n",
        "        \"visits\":visits,\n",
        "        \"cities\":cities\n",
        "    })\n",
        "\n",
        "\n",
        "\n",
        "#🚨 Do not change the code below\n",
        "add_new_country(\"Russia\", 2, [\"Moscow\", \"Saint Petersburg\"])\n",
        "print(travel_log)\n"
      ],
      "metadata": {
        "colab": {
          "base_uri": "https://localhost:8080/"
        },
        "id": "rjFzHzItHw2u",
        "outputId": "12d95c6e-0501-4121-ab46-cc05ba2073ef"
      },
      "execution_count": 11,
      "outputs": [
        {
          "output_type": "stream",
          "name": "stdout",
          "text": [
            "[{'country': 'France', 'visits': 12, 'cities': ['Paris', 'Lille', 'Dijon']}, {'country': 'Germany', 'visits': 5, 'cities': ['Berlin', 'Hamburg', 'Stuttgart']}, {'country': 'Russia', 'visits': 2, 'cities': ['Moscow', 'Saint Petersburg']}]\n"
          ]
        }
      ]
    }
  ]
}