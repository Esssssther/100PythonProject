{
  "nbformat": 4,
  "nbformat_minor": 0,
  "metadata": {
    "colab": {
      "provenance": [],
      "authorship_tag": "ABX9TyPmWn3z7NCKbtLvp8aFR25O",
      "include_colab_link": true
    },
    "kernelspec": {
      "name": "python3",
      "display_name": "Python 3"
    },
    "language_info": {
      "name": "python"
    }
  },
  "cells": [
    {
      "cell_type": "markdown",
      "metadata": {
        "id": "view-in-github",
        "colab_type": "text"
      },
      "source": [
        "<a href=\"https://colab.research.google.com/github/Esssssther/100PythonProject/blob/main/Day10_Calculator_functions_w_output.ipynb\" target=\"_parent\"><img src=\"https://colab.research.google.com/assets/colab-badge.svg\" alt=\"Open In Colab\"/></a>"
      ]
    },
    {
      "cell_type": "code",
      "source": [
        "# Calculator program\n",
        "from google.colab import output\n",
        "\n",
        "logo = \"\"\"\n",
        " _____________________\n",
        "|  _________________  |\n",
        "| | Pythonista   0. | |  .----------------.  .----------------.  .----------------.  .----------------.\n",
        "| |_________________| | | .--------------. || .--------------. || .--------------. || .--------------. |\n",
        "|  ___ ___ ___   ___  | | |     ______   | || |      __      | || |   _____      | || |     ______   | |\n",
        "| | 7 | 8 | 9 | | + | | | |   .' ___  |  | || |     /  \\     | || |  |_   _|     | || |   .' ___  |  | |\n",
        "| |___|___|___| |___| | | |  / .'   \\_|  | || |    / /\\ \\    | || |    | |       | || |  / .'   \\_|  | |\n",
        "| | 4 | 5 | 6 | | - | | | |  | |         | || |   / ____ \\   | || |    | |   _   | || |  | |         | |\n",
        "| |___|___|___| |___| | | |  \\ `.___.'\\  | || | _/ /    \\ \\_ | || |   _| |__/ |  | || |  \\ `.___.'\\  | |\n",
        "| | 1 | 2 | 3 | | x | | | |   `._____.'  | || ||____|  |____|| || |  |________|  | || |   `._____.'  | |\n",
        "| |___|___|___| |___| | | |              | || |              | || |              | || |              | |\n",
        "| | . | 0 | = | | / | | | '--------------' || '--------------' || '--------------' || '--------------' |\n",
        "| |___|___|___| |___| |  '----------------'  '----------------'  '----------------'  '----------------'\n",
        "|_____________________|\n",
        "\"\"\"\n",
        "\n",
        "\n",
        "def add(a,b):\n",
        "    return a+b\n",
        "def subtract(a,b):\n",
        "    return a-b\n",
        "def multiply(a,b):\n",
        "    return a*b\n",
        "def divide(a,b):\n",
        "    return a/b\n",
        "# store these functions in a dictionary\n",
        "operations={\n",
        "    \"+\":add,\n",
        "    \"-\":subtract,\n",
        "    \"*\":multiply,\n",
        "    \"/\":divide,\n",
        "}\n",
        "def calculator():\n",
        "    print(logo)\n",
        "    num1=float(input(\"what is the first number?\"))\n",
        "    for symbol in operations:\n",
        "        print(symbol)\n",
        "\n",
        "    continue_cal = \"yes\"\n",
        "    while continue_cal == \"yes\":\n",
        "        op_symbol=input(\"which operation do you want to use?\")\n",
        "        num2=float(input(\"what is the next number?\"))\n",
        "        answer = operations[op_symbol](num1,num2)# change to like add(num1,num2)\n",
        "        print(f\"{num1} {op_symbol} {num2} = {answer}\")\n",
        "        continue_cal=input(\"Do you want to continue this calculation? yes or no\").lower()\n",
        "        if continue_cal == \"no\":\n",
        "            output.clear()\n",
        "            print(\"thanks for use the calculator program\")\n",
        "            fresh_cal=input(\"do you want to calculate a new one? yes or no\")\n",
        "            if fresh_cal==\"yes\":\n",
        "                calculator() # call a function within a function\n",
        "                #be careful to use condition other wise may into infinte running\n",
        "            else:\n",
        "                output.clear()\n",
        "                print(\"thanks for use the calculator program\")\n",
        "        elif continue_cal == \"yes\":\n",
        "            num1=answer\n",
        "        else:\n",
        "            print(\"your type is invalid\")\n",
        "\n",
        "calculator()"
      ],
      "metadata": {
        "colab": {
          "base_uri": "https://localhost:8080/"
        },
        "id": "mYzQ2LCW8AaG",
        "outputId": "66f5f2f4-b66d-477a-b47c-541e551c821e"
      },
      "execution_count": 17,
      "outputs": [
        {
          "name": "stdout",
          "output_type": "stream",
          "text": [
            "thanks for use the calculator program\n",
            "do you want to calculate a new one? yes or nono\n"
          ]
        }
      ]
    },
    {
      "cell_type": "code",
      "execution_count": 3,
      "metadata": {
        "colab": {
          "base_uri": "https://localhost:8080/"
        },
        "id": "ZJwqrPrMn_-k",
        "outputId": "20e51a39-85f5-48d1-ec85-48bffe783478"
      },
      "outputs": [
        {
          "output_type": "stream",
          "name": "stdout",
          "text": [
            "6\n"
          ]
        }
      ],
      "source": [
        "#function with outputs\n",
        "def my_function():\n",
        "    result=3*2\n",
        "    return result\n",
        "\n",
        "output=my_function()\n",
        "print(output)"
      ]
    },
    {
      "cell_type": "code",
      "source": [
        "def format_name(f_name,l_name):\n",
        "    first_name=f_name.title()#start with cap in the first letter\n",
        "    last_name=l_name.title()\n",
        "    return f\"{first_name},{last_name}\" # this is the end of the function, then exit the function\n",
        "\n",
        "formated_name=format_name(\"esTher\",\"SHI\")\n",
        "print(formated_name)\n",
        "print(format_name(\"esTher\",\"SHI\"))\n",
        "\n",
        "\n"
      ],
      "metadata": {
        "colab": {
          "base_uri": "https://localhost:8080/"
        },
        "id": "wYO1Y5i1pdT3",
        "outputId": "d9dc06a9-278b-4d9f-ca07-5f153a845411"
      },
      "execution_count": 5,
      "outputs": [
        {
          "output_type": "stream",
          "name": "stdout",
          "text": [
            "Esther,Shi\n"
          ]
        }
      ]
    },
    {
      "cell_type": "code",
      "source": [
        "#return = end, escape the function\n",
        "def format_name(f_name,l_name):\n",
        "    if f_name==\"\" or l_name==\"\":\n",
        "        return \" You didn't provide valid input\"\n",
        "    first_name=f_name.title()#start with cap in the first letter\n",
        "    last_name=l_name.title()\n",
        "    return f\"result: {first_name},{last_name}\" # this is the end of the function, then exit the function\n",
        "\n",
        "formated_name=format_name(input(\"What is your first name?\"),input(\"What id your last name?\"))\n",
        "print(formated_name)\n"
      ],
      "metadata": {
        "colab": {
          "base_uri": "https://localhost:8080/"
        },
        "id": "LNVxhIOKyJhV",
        "outputId": "c6c951fb-dcad-4c38-a2de-e6d156f46a1a"
      },
      "execution_count": 2,
      "outputs": [
        {
          "output_type": "stream",
          "name": "stdout",
          "text": [
            "What is your first name?\n",
            "What id your last name?\n",
            " You didn't provide valid input\n"
          ]
        }
      ]
    },
    {
      "cell_type": "code",
      "source": [
        "def is_leap(year):\n",
        "  if year % 4 == 0:\n",
        "    if year % 100 == 0:\n",
        "      if year % 400 == 0:\n",
        "        return \"Leap year.\"\n",
        "      else:\n",
        "        return \"Not leap year.\"\n",
        "    else:\n",
        "      return \"Leap year.\"\n",
        "  else:\n",
        "    return \"Not leap year.\"\n",
        "\n",
        "def days_in_month(year,month):\n",
        "    if month>12 or month<1:\n",
        "        return \"invalid month\"\n",
        "    month_days = [31, 28, 31, 30, 31, 30, 31, 31, 30, 31, 30, 31]\n",
        "    if is_leap(year) == \"Leap year.\" and month == 2:\n",
        "        return 29\n",
        "    else:\n",
        "        return month_days[month-1]\n",
        "\n",
        "\n",
        "#🚨 Do NOT change any of the code below\n",
        "year = int(input(\"Enter a year: \"))\n",
        "month = int(input(\"Enter a month: \"))\n",
        "days = days_in_month(year, month)\n",
        "print(days)\n",
        "\n"
      ],
      "metadata": {
        "id": "vAEENDx12OgG"
      },
      "execution_count": null,
      "outputs": []
    },
    {
      "cell_type": "code",
      "source": [
        "#docstrings - let other user know what the function is about\n",
        "#return = end, escape the function\n",
        "def format_name(f_name,l_name):\n",
        "    ''' Take a first and last name and format it\n",
        "    to return the title case version of the name.''' #写上docstring当你用这个function的时候打上括号就会提示这句话，这个函数是干嘛的\n",
        "    # can write docstring in multiple line\n",
        "    if f_name==\"\" or l_name==\"\":\n",
        "        return \" You didn't provide valid input\"\n",
        "    first_name=f_name.title()#start with cap in the first letter\n",
        "    last_name=l_name.title()\n",
        "    return f\"result: {first_name},{last_name}\" # this is the end of the function, then exit the function\n",
        "\n",
        "formated_name=format_name(input(\"What is your first name?\"),input(\"What id your last name?\"))\n",
        "print(formated_name)\n"
      ],
      "metadata": {
        "id": "Pqphm_YX587j"
      },
      "execution_count": null,
      "outputs": []
    },
    {
      "cell_type": "code",
      "source": [
        "def outer_function(a, b):\n",
        "    def inner_function(c, d):\n",
        "        return c + d\n",
        "    return inner_function(a, b)\n",
        "\n",
        "result = outer_function(5, 10)\n",
        "print(result)"
      ],
      "metadata": {
        "colab": {
          "base_uri": "https://localhost:8080/"
        },
        "id": "OHQWsZc_7dCg",
        "outputId": "a7582848-7f9a-4911-d217-9ca5ea7d20a6"
      },
      "execution_count": 3,
      "outputs": [
        {
          "output_type": "stream",
          "name": "stdout",
          "text": [
            "15\n"
          ]
        }
      ]
    }
  ]
}