{
  "nbformat": 4,
  "nbformat_minor": 0,
  "metadata": {
    "colab": {
      "provenance": [],
      "authorship_tag": "ABX9TyPzfneJbxFi+oz7i7tErRtT",
      "include_colab_link": true
    },
    "kernelspec": {
      "name": "python3",
      "display_name": "Python 3"
    },
    "language_info": {
      "name": "python"
    }
  },
  "cells": [
    {
      "cell_type": "markdown",
      "metadata": {
        "id": "view-in-github",
        "colab_type": "text"
      },
      "source": [
        "<a href=\"https://colab.research.google.com/github/Esssssther/100PythonProject/blob/main/Day3_Treasure_Island_game_logical_operator.ipynb\" target=\"_parent\"><img src=\"https://colab.research.google.com/assets/colab-badge.svg\" alt=\"Open In Colab\"/></a>"
      ]
    },
    {
      "cell_type": "code",
      "source": [
        "print('''\n",
        "*******************************************************************************\n",
        "          |                   |                  |                     |\n",
        " _________|________________.=\"\"_;=.______________|_____________________|_______\n",
        "|                   |  ,-\"_,=\"\"     `\"=.|                  |\n",
        "|___________________|__\"=._o`\"-._        `\"=.______________|___________________\n",
        "          |                `\"=._o`\"=._      _`\"=._                     |\n",
        " _________|_____________________:=._o \"=._.\"_.-=\"'\"=.__________________|_______\n",
        "|                   |    __.--\" , ; `\"=._o.\" ,-\"\"\"-._ \".   |\n",
        "|___________________|_._\"  ,. .` ` `` ,  `\"-._\"-._   \". '__|___________________\n",
        "          |           |o`\"=._` , \"` `; .\". ,  \"-._\"-._; ;              |\n",
        " _________|___________| ;`-.o`\"=._; .\" ` '`.\"\\` . \"-._ /_______________|_______\n",
        "|                   | |o;    `\"-.o`\"=._``  '` \" ,__.--o;   |\n",
        "|___________________|_| ;     (#) `-.o `\"=.`_.--\"_o.-; ;___|___________________\n",
        "____/______/______/___|o;._    \"      `\".o|o_.--\"    ;o;____/______/______/____\n",
        "/______/______/______/_\"=._o--._        ; | ;        ; ;/______/______/______/_\n",
        "____/______/______/______/__\"=._o--._   ;o|o;     _._;o;____/______/______/____\n",
        "/______/______/______/______/____\"=._o._; | ;_.--\"o.--\"_/______/______/______/_\n",
        "____/______/______/______/______/_____\"=.o|o_.--\"\"___/______/______/______/____\n",
        "/______/______/______/______/______/______/______/______/______/______/_____ /\n",
        "*******************************************************************************\n",
        "''')\n",
        "print(\"Welcome to Treasure Island.\")\n",
        "print(\"Your mission is to find the treasure.\")\n",
        "#三个打印号，可以打多行数据\n",
        "\n",
        "#https://www.draw.io/?lightbox=1&highlight=0000ff&edit=_blank&layers=1&nav=1&title=Treasure%20Island%20Conditional.drawio#Uhttps%3A%2F%2Fdrive.google.com%2Fuc%3Fid%3D1oDe4ehjWZipYRsVfeAx2HyB7LCQ8_Fvi%26export%3Ddownload\n",
        "\n",
        "#Write your code below this line 👇\n",
        "direction=input(\"You want to go left or right?\").lower()\n",
        "if direction == \"left\":\n",
        "  action=input(\"You want to swim or wait?\").lower()\n",
        "  if action == \"wait\":\n",
        "    door = input(\"Which door do you want to choose? Red, Blue, or Yellow?\").lower()\n",
        "    if door == \"red\":\n",
        "      print(\"Burned by fire. Game Over.\")\n",
        "    elif door == \"blue\":\n",
        "      print(\"Eaten by beasts. Game Over.\")\n",
        "    elif door == \"yellow\":\n",
        "      print(\"You Win!\")\n",
        "    else:\n",
        "      print(\"Game Over.\")\n",
        "\n",
        "  else:\n",
        "    print(\"Attacted by trout.\\n Game over.\")\n",
        "else:\n",
        "  print(\"Fall into a hole, Game over\")"
      ],
      "metadata": {
        "colab": {
          "base_uri": "https://localhost:8080/"
        },
        "id": "prM_vPZbOROE",
        "outputId": "692b41c1-cc73-4dec-f6dc-695f6bfdf7fb"
      },
      "execution_count": null,
      "outputs": [
        {
          "output_type": "stream",
          "name": "stdout",
          "text": [
            "\n",
            "*******************************************************************************\n",
            "          |                   |                  |                     |\n",
            " _________|________________.=\"\"_;=.______________|_____________________|_______\n",
            "|                   |  ,-\"_,=\"\"     `\"=.|                  |\n",
            "|___________________|__\"=._o`\"-._        `\"=.______________|___________________\n",
            "          |                `\"=._o`\"=._      _`\"=._                     |\n",
            " _________|_____________________:=._o \"=._.\"_.-=\"'\"=.__________________|_______\n",
            "|                   |    __.--\" , ; `\"=._o.\" ,-\"\"\"-._ \".   |\n",
            "|___________________|_._\"  ,. .` ` `` ,  `\"-._\"-._   \". '__|___________________\n",
            "          |           |o`\"=._` , \"` `; .\". ,  \"-._\"-._; ;              |\n",
            " _________|___________| ;`-.o`\"=._; .\" ` '`.\"\\` . \"-._ /_______________|_______\n",
            "|                   | |o;    `\"-.o`\"=._``  '` \" ,__.--o;   |\n",
            "|___________________|_| ;     (#) `-.o `\"=.`_.--\"_o.-; ;___|___________________\n",
            "____/______/______/___|o;._    \"      `\".o|o_.--\"    ;o;____/______/______/____\n",
            "/______/______/______/_\"=._o--._        ; | ;        ; ;/______/______/______/_\n",
            "____/______/______/______/__\"=._o--._   ;o|o;     _._;o;____/______/______/____\n",
            "/______/______/______/______/____\"=._o._; | ;_.--\"o.--\"_/______/______/______/_\n",
            "____/______/______/______/______/_____\"=.o|o_.--\"\"___/______/______/______/____\n",
            "/______/______/______/______/______/______/______/______/______/______/_____ /\n",
            "*******************************************************************************\n",
            "\n",
            "Welcome to Treasure Island.\n",
            "Your mission is to find the treasure.\n",
            "You want to go left or right?right\n",
            "Fall into a hole, Game over\n"
          ]
        }
      ]
    },
    {
      "cell_type": "code",
      "execution_count": null,
      "metadata": {
        "colab": {
          "base_uri": "https://localhost:8080/"
        },
        "id": "4Ppkyfzmv2bG",
        "outputId": "9bbabf11-8460-4a99-8943-11a1bb9d9196"
      },
      "outputs": [
        {
          "output_type": "stream",
          "name": "stdout",
          "text": [
            "Welcome to the rollercoaster!\n",
            "what is you height in cm?150\n",
            "You can buy a ticket\n",
            "what is your age15\n",
            "You need to pay $ 7\n"
          ]
        }
      ],
      "source": [
        "# Condition If Else\n",
        "#if condition:\n",
        "  #do this\n",
        "#elif condition 2:\n",
        "  # do this\n",
        "#else:\n",
        "  #do this\n",
        "print(\"Welcome to the rollercoaster!\")\n",
        "height = int (input(\"what is you height in cm?\"))\n",
        "\n",
        "if height>=120:\n",
        "  print(\"You can buy a ticket\")\n",
        "  age = int (input(\"what is your age\"))\n",
        "  # if age >18:\n",
        "  #   price =12\n",
        "  #   print(f\"You need to pay $ {price}\")\n",
        "  # elif age<=18 and age >=12 :\n",
        "  #   price =7\n",
        "  #   print(f\"You need to pay $ {price}\")\n",
        "  # else:\n",
        "  #   price =5\n",
        "  #   print(f\"You need to pay $ {price}\")\n",
        "  if age <12:\n",
        "    price =5\n",
        "    print(f\"You need to pay $ {price}\")\n",
        "  elif age <=18:\n",
        "    price =7\n",
        "    print(f\"You need to pay $ {price}\")\n",
        "  else:\n",
        "    price =12\n",
        "    print(f\"You need to pay $ {price}\")\n",
        "else:\n",
        "  print(\"You cannot buy the ticket\")"
      ]
    },
    {
      "cell_type": "code",
      "source": [
        "# remainder\n",
        "7 % 2\n",
        "# if even number % 2 = 0\n",
        "# if odd number % 2 != 0"
      ],
      "metadata": {
        "colab": {
          "base_uri": "https://localhost:8080/"
        },
        "id": "t0AeEEzbz5Rm",
        "outputId": "14c921fa-e72a-459e-9002-9699d5a70dd7"
      },
      "execution_count": null,
      "outputs": [
        {
          "output_type": "execute_result",
          "data": {
            "text/plain": [
              "1"
            ]
          },
          "metadata": {},
          "execution_count": 2
        }
      ]
    },
    {
      "cell_type": "code",
      "source": [
        "# 🚨 Don't change the code below 👇\n",
        "height = float(input(\"enter your height in m: \"))\n",
        "weight = float(input(\"enter your weight in kg: \"))\n",
        "# 🚨 Don't change the code above 👆\n",
        "\n",
        "#Write your code below this line 👇\n",
        "BMI=round(weight/height**2)\n",
        "\n",
        "if BMI < 18.5:\n",
        "    print(f\"Your BMI is {BMI}, you are slightly overweight.\")\n",
        "elif BMI <25:\n",
        "    print(f\"Your BMI is {BMI}, you have a normal weight.\")\n",
        "elif BMI <30:\n",
        "    print(f\"Your BMI is {BMI}, you are slightly overweight.\")\n",
        "elif BMI <35:\n",
        "    print(f\"Your BMI is {BMI},  you are obese.\")\n",
        "else:\n",
        "    print(f\"Your BMI is {BMI},  you are clinically obese.\")"
      ],
      "metadata": {
        "id": "EGcp8WC43CAX"
      },
      "execution_count": null,
      "outputs": []
    },
    {
      "cell_type": "code",
      "source": [
        "from traitlets.traitlets import Bool\n",
        "# multiple if\n",
        "print(\"Welcome to the rollercoaster!\")\n",
        "height = int (input(\"what is you height in cm?\"))\n",
        "\n",
        "if height>=120:\n",
        "  print(\"You can buy a ticket\")\n",
        "  age = int (input(\"what is your age\"))\n",
        "  if age <12:\n",
        "    price =5\n",
        "  elif age <=18:\n",
        "    price =7\n",
        "  else:\n",
        "    price =12\n",
        "  photo= bool(int(input(\"Do you want photos? 1 0r 0\")))\n",
        "  print(photo)\n",
        "  if photo == True:\n",
        "    price +=3\n",
        "    print(f\"You need to pay $ {price}\")\n",
        "  else:\n",
        "    print(f\"You need to pay $ {price}\")\n",
        "\n",
        "else:\n",
        "  print(\"You cannot buy the ticket\")\n",
        "\n",
        "#The bool() function returns the boolean value of a specified object.\n",
        "\n",
        "# The object will always return True, unless:\n",
        "\n",
        "# The object is empty, like [], (), {}\n",
        "# The object is False\n",
        "# The object is 0\n",
        "# The object is None\n",
        "\n"
      ],
      "metadata": {
        "colab": {
          "base_uri": "https://localhost:8080/"
        },
        "id": "aLn_jT5X7kMy",
        "outputId": "d7c813a9-2a6c-4556-e24e-2e23dc4f59f2"
      },
      "execution_count": null,
      "outputs": [
        {
          "output_type": "stream",
          "name": "stdout",
          "text": [
            "Welcome to the rollercoaster!\n",
            "what is you height in cm?150\n",
            "You can buy a ticket\n",
            "what is your age15\n",
            "Do you want photos? 1 0r 00\n",
            "False\n",
            "You need to pay $ 7\n"
          ]
        }
      ]
    },
    {
      "cell_type": "code",
      "source": [
        "bool(False)\n"
      ],
      "metadata": {
        "colab": {
          "base_uri": "https://localhost:8080/"
        },
        "id": "PYtrI1XB9HIL",
        "outputId": "82690bf8-b29c-4371-b35b-6bf3091014a9"
      },
      "execution_count": null,
      "outputs": [
        {
          "output_type": "execute_result",
          "data": {
            "text/plain": [
              "False"
            ]
          },
          "metadata": {},
          "execution_count": 11
        }
      ]
    },
    {
      "cell_type": "code",
      "source": [
        "# 🚨 Don't change the code below 👇\n",
        "print(\"Welcome to Python Pizza Deliveries!\")\n",
        "size = input(\"What size pizza do you want? S, M, or L \")\n",
        "add_pepperoni = input(\"Do you want pepperoni? Y or N \")\n",
        "extra_cheese = input(\"Do you want extra cheese? Y or N \")\n",
        "# 🚨 Don't change the code above 👆\n",
        "\n",
        "#Write your code below this line 👇\n",
        "if size == \"S\":\n",
        "    price =15\n",
        "    if add_pepperoni == \"Y\":\n",
        "        price +=2\n",
        "elif size == \"M\":\n",
        "    price = 20\n",
        "    if add_pepperoni == \"Y\":\n",
        "        price +=3\n",
        "else:\n",
        "    price = 25\n",
        "    if add_pepperoni == \"Y\":\n",
        "        price +=3\n",
        "if extra_cheese == \"Y\":\n",
        "    price +=1\n",
        "\n",
        "print(f\"Your final bill is: ${price}.\")\n",
        "#ELSE IS NOT REQUIRED"
      ],
      "metadata": {
        "id": "mH5sXwW__TDQ"
      },
      "execution_count": null,
      "outputs": []
    },
    {
      "cell_type": "code",
      "source": [
        "a=15\n",
        "print(a>15)\n",
        "not a>15"
      ],
      "metadata": {
        "colab": {
          "base_uri": "https://localhost:8080/"
        },
        "id": "Bk89EWnCAPnP",
        "outputId": "3be44dfc-ccfb-43ad-ff97-2d34550e649b"
      },
      "execution_count": null,
      "outputs": [
        {
          "output_type": "stream",
          "name": "stdout",
          "text": [
            "False\n"
          ]
        },
        {
          "output_type": "execute_result",
          "data": {
            "text/plain": [
              "True"
            ]
          },
          "metadata": {},
          "execution_count": 14
        }
      ]
    },
    {
      "cell_type": "code",
      "source": [
        "\"esther\".count(\"e\")"
      ],
      "metadata": {
        "colab": {
          "base_uri": "https://localhost:8080/"
        },
        "id": "gUmRoYDaBX8h",
        "outputId": "0ee7de03-7543-4d1d-b4f0-48605ba1e03b"
      },
      "execution_count": null,
      "outputs": [
        {
          "output_type": "execute_result",
          "data": {
            "text/plain": [
              "2"
            ]
          },
          "metadata": {},
          "execution_count": 15
        }
      ]
    },
    {
      "cell_type": "code",
      "source": [
        "\"Esther\".count(\"e\")"
      ],
      "metadata": {
        "colab": {
          "base_uri": "https://localhost:8080/"
        },
        "id": "whBxkptEBeym",
        "outputId": "b558fe71-67bf-4dfb-cce0-2468d8c81d08"
      },
      "execution_count": null,
      "outputs": [
        {
          "output_type": "execute_result",
          "data": {
            "text/plain": [
              "1"
            ]
          },
          "metadata": {},
          "execution_count": 16
        }
      ]
    },
    {
      "cell_type": "code",
      "source": [
        "\"Esther\".count(\"E\")"
      ],
      "metadata": {
        "colab": {
          "base_uri": "https://localhost:8080/"
        },
        "id": "9pNyZf6QBh17",
        "outputId": "ad406c0d-dcf6-438f-95e0-816a2bba1d03"
      },
      "execution_count": null,
      "outputs": [
        {
          "output_type": "execute_result",
          "data": {
            "text/plain": [
              "1"
            ]
          },
          "metadata": {},
          "execution_count": 17
        }
      ]
    },
    {
      "cell_type": "code",
      "source": [
        "\"Esther\".lower().count(\"e\")"
      ],
      "metadata": {
        "colab": {
          "base_uri": "https://localhost:8080/"
        },
        "id": "kiy-sELrBkUY",
        "outputId": "041a26b4-c14d-4ed6-d91d-bb0cd3d83d2c"
      },
      "execution_count": null,
      "outputs": [
        {
          "output_type": "execute_result",
          "data": {
            "text/plain": [
              "2"
            ]
          },
          "metadata": {},
          "execution_count": 18
        }
      ]
    },
    {
      "cell_type": "code",
      "source": [
        "# 🚨 Don't change the code below 👇\n",
        "print(\"Welcome to the Love Calculator!\")\n",
        "name1 = input(\"What is your name? \\n\")\n",
        "name2 = input(\"What is their name? \\n\")\n",
        "# 🚨 Don't change the code above 👆\n",
        "\n",
        "#Write your code below this line 👇\n",
        "\n",
        "name1=name1.lower()\n",
        "name2=name2.lower()\n",
        "\n",
        "total_score1= name1.count(\"t\")+name1.count(\"r\")+name1.count(\"u\")+name1.count(\"e\")+name2.count(\"t\")+name2.count(\"r\")+name2.count(\"u\")+name2.count(\"e\")\n",
        "total_score2= name1.count(\"l\")+name1.count(\"o\")+name1.count(\"v\")+name1.count(\"e\")+name2.count(\"l\")+name2.count(\"o\")+name2.count(\"v\")+name2.count(\"e\")\n",
        "score=total_score1*10+total_score2\n",
        "\n",
        "if score<10 or score > 90:\n",
        "    print(f\"Your score is {score}, you go together like coke and mentos.\")\n",
        "elif score<=50 and score>=40:\n",
        "    print(f\"Your score is {score}, you are alright together.\")\n",
        "else:\n",
        "    print(f\"Your score is {score}.\")\n"
      ],
      "metadata": {
        "id": "EG93tMYDD-2Z"
      },
      "execution_count": null,
      "outputs": []
    },
    {
      "cell_type": "code",
      "source": [
        "from os import name\n",
        "# 🚨 Don't change the code below 👇\n",
        "print(\"Welcome to the Love Calculator!\")\n",
        "name1 = input(\"What is your name? \\n\")\n",
        "name2 = input(\"What is their name? \\n\")\n",
        "# 🚨 Don't change the code above 👆\n",
        "\n",
        "#Write your code below this line 👇\n",
        "combine_string=name1+name2\n",
        "combine_string=combine_string.lower()\n",
        "\n",
        "total_score1= combine_string.count(\"t\")+combine_string.count(\"r\")+combine_string.count(\"u\")+combine_string.count(\"e\")\n",
        "total_score2= combine_string.count(\"l\")+combine_string.count(\"o\")+combine_string.count(\"v\")+combine_string.count(\"e\")\n",
        "score=total_score1*10+total_score2\n",
        "\n",
        "if score<10 or score > 90:\n",
        "    print(f\"Your score is {score}, you go together like coke and mentos.\")\n",
        "elif score<=50 and score>=40:\n",
        "    print(f\"Your score is {score}, you are alright together.\")\n",
        "else:\n",
        "    print(f\"Your score is {score}.\")"
      ],
      "metadata": {
        "colab": {
          "base_uri": "https://localhost:8080/"
        },
        "id": "eQ1Psp8YEHG5",
        "outputId": "ac33923a-f23e-4b3b-9f7d-a146c6992c90"
      },
      "execution_count": null,
      "outputs": [
        {
          "output_type": "stream",
          "name": "stdout",
          "text": [
            "Welcome to the Love Calculator!\n",
            "What is your name? \n",
            "shishi\n",
            "What is their name? \n",
            "zexuan song\n",
            "Your score is 22.\n"
          ]
        }
      ]
    }
  ]
}