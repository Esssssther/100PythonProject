{
  "nbformat": 4,
  "nbformat_minor": 0,
  "metadata": {
    "colab": {
      "provenance": [],
      "authorship_tag": "ABX9TyMmwke/dmqnCjv7nOm97pDv",
      "include_colab_link": true
    },
    "kernelspec": {
      "name": "python3",
      "display_name": "Python 3"
    },
    "language_info": {
      "name": "python"
    }
  },
  "cells": [
    {
      "cell_type": "markdown",
      "metadata": {
        "id": "view-in-github",
        "colab_type": "text"
      },
      "source": [
        "<a href=\"https://colab.research.google.com/github/Esssssther/100PythonProject/blob/main/Day5_Loop_password_generator.ipynb\" target=\"_parent\"><img src=\"https://colab.research.google.com/assets/colab-badge.svg\" alt=\"Open In Colab\"/></a>"
      ]
    },
    {
      "cell_type": "code",
      "source": [
        "#password generator\n",
        "import random\n",
        "letters = ['a', 'b', 'c', 'd', 'e', 'f', 'g', 'h', 'i', 'j', 'k', 'l', 'm', 'n', 'o', 'p', 'q', 'r', 's', 't', 'u', 'v', 'w', 'x', 'y', 'z', 'A', 'B', 'C', 'D', 'E', 'F', 'G', 'H', 'I', 'J', 'K', 'L', 'M', 'N', 'O', 'P', 'Q', 'R', 'S', 'T', 'U', 'V', 'W', 'X', 'Y', 'Z']\n",
        "numbers = ['0', '1', '2', '3', '4', '5', '6', '7', '8', '9']\n",
        "symbols = ['!', '#', '$', '%', '&', '(', ')', '*', '+']\n",
        "\n",
        "print(\"Welcome to the PyPassword Generator!\")\n",
        "nr_letters = int(input(\"How many letters would you like in your password?\\n\"))\n",
        "nr_symbols = int(input(f\"How many symbols would you like?\\n\"))\n",
        "nr_numbers = int(input(f\"How many numbers would you like?\\n\"))\n",
        "password_list=[]\n",
        "for i in range(0,nr_letters):\n",
        "  random_num=random.randint(0,len(letters)-1)\n",
        "  password_list.append(letters[random_num])\n",
        "for j in range(0,nr_symbols):\n",
        "  random_num=random.randint(0,len(symbols)-1)\n",
        "  password_list.append(symbols[random_num])\n",
        "for num in range(0,nr_numbers):\n",
        "  random_num=random.randint(0,len(numbers)-1)\n",
        "  password_list.append(numbers[random_num])\n",
        "print(password_list)\n",
        "string=\"\"\n",
        "for i in password_list:\n",
        "  string=string+i\n",
        "print(\"password in order\"+string)\n",
        "\n",
        "\n",
        "string2=\"\"\n",
        "#length=nr_letters+nr_symbols+nr_numbers\n",
        "\n",
        "#way 1\n",
        "# for i in range(0,length):\n",
        "#   add=random.choice(password_list)\n",
        "#   string2+=add\n",
        "#   password_list.remove(add)\n",
        "# print(\"password not in order\"+string2)\n",
        "\n",
        "\n",
        "#way 2\n",
        "# for i in range(0,length):\n",
        "#   add=password_list[random.randint(0,len(password_list)-1)]\n",
        "#   string2+=add\n",
        "#   password_list.remove(add)\n",
        "# print(\"password not in order\"+string2)\n",
        "\n",
        "# way 3 just google how to change order for a list\n",
        "#use shuffle function\n",
        "random.shuffle(password_list)\n",
        "print(password_list)\n",
        "for i in password_list:\n",
        "  string2=string2+i\n",
        "print(\"password not in order \"+string2)\n"
      ],
      "metadata": {
        "colab": {
          "base_uri": "https://localhost:8080/"
        },
        "id": "Rc4BeGv5t0af",
        "outputId": "12697e00-a283-4f53-b96b-891f6bb80ec7"
      },
      "execution_count": null,
      "outputs": [
        {
          "output_type": "stream",
          "name": "stdout",
          "text": [
            "Welcome to the PyPassword Generator!\n",
            "How many letters would you like in your password?\n",
            "1\n",
            "How many symbols would you like?\n",
            "2\n",
            "How many numbers would you like?\n",
            "3\n",
            "['K', '&', '$', '1', '5', '1']\n",
            "password in orderK&$151\n",
            "['$', '1', '&', '1', 'K', '5']\n",
            "password not in order$1&1K5\n"
          ]
        }
      ]
    },
    {
      "cell_type": "code",
      "source": [
        "from re import A\n",
        "#password generator\n",
        "import random\n",
        "letters = ['a', 'b', 'c', 'd', 'e', 'f', 'g', 'h', 'i', 'j', 'k', 'l', 'm', 'n', 'o', 'p', 'q', 'r', 's', 't', 'u', 'v', 'w', 'x', 'y', 'z', 'A', 'B', 'C', 'D', 'E', 'F', 'G', 'H', 'I', 'J', 'K', 'L', 'M', 'N', 'O', 'P', 'Q', 'R', 'S', 'T', 'U', 'V', 'W', 'X', 'Y', 'Z']\n",
        "numbers = ['0', '1', '2', '3', '4', '5', '6', '7', '8', '9']\n",
        "symbols = ['!', '#', '$', '%', '&', '(', ')', '*', '+']\n",
        "\n",
        "print(\"Welcome to the PyPassword Generator!\")\n",
        "nr_letters = int(input(\"How many letters would you like in your password?\\n\"))\n",
        "nr_symbols = int(input(f\"How many symbols would you like?\\n\"))\n",
        "nr_numbers = int(input(f\"How many numbers would you like?\\n\"))\n",
        "password_string=\"\"\n",
        "for i in range(0,nr_letters):\n",
        "  random_num=random.randint(0,len(letters)-1)\n",
        "  password_string+=letters[random_num]\n",
        "for j in range(0,nr_symbols):\n",
        "  random_num=random.randint(0,len(symbols)-1)\n",
        "  password_string+=symbols[random_num]\n",
        "for num in range(0,nr_numbers):\n",
        "  random_num=random.randint(0,len(numbers)-1)\n",
        "  password_string+=numbers[random_num]\n",
        "print(\"password in order\"+password_string)\n"
      ],
      "metadata": {
        "colab": {
          "base_uri": "https://localhost:8080/"
        },
        "id": "5thryZmIzX3g",
        "outputId": "38297f7a-a933-4c02-8fb7-c8f52dd9238a"
      },
      "execution_count": null,
      "outputs": [
        {
          "output_type": "stream",
          "name": "stdout",
          "text": [
            "Welcome to the PyPassword Generator!\n",
            "How many letters would you like in your password?\n",
            "5\n",
            "How many symbols would you like?\n",
            "2\n",
            "How many numbers would you like?\n",
            "1\n",
            "password in orderNEYys&$4\n"
          ]
        }
      ]
    },
    {
      "cell_type": "code",
      "execution_count": null,
      "metadata": {
        "colab": {
          "base_uri": "https://localhost:8080/"
        },
        "id": "6WREKAC0jpOW",
        "outputId": "db84badb-5a61-4bdf-a73a-d187de746389"
      },
      "outputs": [
        {
          "output_type": "stream",
          "name": "stdout",
          "text": [
            "Apple\n",
            "Peach\n",
            "Pear\n"
          ]
        }
      ],
      "source": [
        "#for loop\n",
        "fruits = [\"Apple\",\"Peach\",\"Pear\"]\n",
        "for i in fruits:\n",
        "  print(i)\n"
      ]
    },
    {
      "cell_type": "code",
      "source": [
        "# 计算平均身高\n",
        "# 🚨 Don't change the code below 👇\n",
        "student_heights = input(\"Input a list of student heights \").split()\n",
        "for n in range(0, len(student_heights)):\n",
        "  student_heights[n] = int(student_heights[n])\n",
        "# 🚨 Don't change the code above 👆\n",
        "\n",
        "#div= len(student_heights)\n",
        "#不用len 用for loop 也能得到相同结果\n",
        "div=0\n",
        "for j in student_heights:\n",
        "    div+=1\n",
        "\n",
        "#sum(student_heights) can also get total height\n",
        "#不用sum，用for也能得到相同结果\n",
        "total_height=0\n",
        "for i in student_heights:\n",
        "    total_height+=i\n",
        "\n",
        "avg=round(total_height/div)\n",
        "print(avg)"
      ],
      "metadata": {
        "id": "3iWu_a56n4PO"
      },
      "execution_count": null,
      "outputs": []
    },
    {
      "cell_type": "code",
      "source": [
        "student_scores = input(\"Input a list of student scores \")\n",
        "print(student_scores)\n",
        "student_scores = student_scores.split()# 122 123 split(\",\") for 122,123\n",
        "print(student_scores)\n",
        "for n in range(0, len(student_scores)):\n",
        "  student_scores[n] = int(student_scores[n])\n",
        "print(student_scores)\n",
        "\n",
        "# print(max(student_scores)) same function as the for loop below\n",
        "# print(min(student_scores))\n",
        "highest=0\n",
        "for i in student_scores:\n",
        "    if i>highest:\n",
        "        highest=i\n",
        "print(f\"The highest score in the class is: {highest}\")"
      ],
      "metadata": {
        "colab": {
          "base_uri": "https://localhost:8080/"
        },
        "id": "bXc6O8PCo9Q4",
        "outputId": "62da0f55-60d0-4d7f-ae25-776dfc4e6255"
      },
      "execution_count": null,
      "outputs": [
        {
          "output_type": "stream",
          "name": "stdout",
          "text": [
            "Input a list of student scores 122,123\n",
            "122,123\n",
            "['122', '123']\n"
          ]
        }
      ]
    },
    {
      "cell_type": "code",
      "source": [
        "for i in range(0,3):\n",
        "  print(i)\n",
        "#range(a,b) integer that not include b [a,b)"
      ],
      "metadata": {
        "colab": {
          "base_uri": "https://localhost:8080/"
        },
        "id": "x5qxCs1pl9gK",
        "outputId": "89c7c5b3-5999-4256-ce21-b6d0843124e6"
      },
      "execution_count": null,
      "outputs": [
        {
          "output_type": "stream",
          "name": "stdout",
          "text": [
            "0\n",
            "1\n",
            "2\n"
          ]
        }
      ]
    },
    {
      "cell_type": "code",
      "source": [
        "for i in range(0,20,3):#start,end,step\n",
        "  print(i)"
      ],
      "metadata": {
        "colab": {
          "base_uri": "https://localhost:8080/"
        },
        "id": "iLqaxhzjrNxW",
        "outputId": "d2148aab-dc10-4905-ccdb-9791f1321819"
      },
      "execution_count": null,
      "outputs": [
        {
          "output_type": "stream",
          "name": "stdout",
          "text": [
            "0\n",
            "3\n",
            "6\n",
            "9\n",
            "12\n",
            "15\n",
            "18\n"
          ]
        }
      ]
    },
    {
      "cell_type": "code",
      "source": [
        "total=0\n",
        "for number in range(0,101):\n",
        "  total +=number\n",
        "print(total)"
      ],
      "metadata": {
        "colab": {
          "base_uri": "https://localhost:8080/"
        },
        "id": "xmXc6aNHraIj",
        "outputId": "87c65981-84cb-4266-b396-48c190af52f0"
      },
      "execution_count": null,
      "outputs": [
        {
          "output_type": "stream",
          "name": "stdout",
          "text": [
            "5050\n"
          ]
        }
      ]
    },
    {
      "cell_type": "code",
      "source": [
        "# You are going to write a program that calculates the sum of all the even numbers from 1 to 100. Thus, the first even number would be 2 and the last one is 100:\n",
        "\n",
        "# i.e. 2 + 4 + 6 + 8 +10 ... + 98 + 100\n",
        "total=0\n",
        "for i in range(2,101,2):\n",
        "    total+=i\n",
        "print(total)"
      ],
      "metadata": {
        "colab": {
          "base_uri": "https://localhost:8080/"
        },
        "id": "FeGEVKOZsGhZ",
        "outputId": "e80a951b-e397-4744-be49-fe82087d2d34"
      },
      "execution_count": null,
      "outputs": [
        {
          "output_type": "stream",
          "name": "stdout",
          "text": [
            "2550\n"
          ]
        }
      ]
    },
    {
      "cell_type": "code",
      "source": [
        "total=0\n",
        "for i in range(1,101):\n",
        "  if i%2==0:\n",
        "    total+=i\n",
        "print(total)"
      ],
      "metadata": {
        "colab": {
          "base_uri": "https://localhost:8080/"
        },
        "id": "lcBfA2zZsPZB",
        "outputId": "1fa33978-93d8-4cf4-a9b0-bd4ccb257e50"
      },
      "execution_count": null,
      "outputs": [
        {
          "output_type": "stream",
          "name": "stdout",
          "text": [
            "2550\n"
          ]
        }
      ]
    },
    {
      "cell_type": "code",
      "source": [
        "#Write your code below this row 👇\n",
        "for i in range(1,101):\n",
        "    if i % 3 == 0 and i % 5 == 0 :\n",
        "        print(\"FizzBuzz\")\n",
        "    elif i % 3 == 0:\n",
        "        print(\"Fizz\")\n",
        "    elif i % 5 ==0:\n",
        "        print(\"Buzz\")\n",
        "    else:\n",
        "        print(i)\n"
      ],
      "metadata": {
        "colab": {
          "base_uri": "https://localhost:8080/"
        },
        "id": "s9MthQ_GtMam",
        "outputId": "b8a9aa97-cebe-42da-c3fc-207360bcacdb"
      },
      "execution_count": null,
      "outputs": [
        {
          "output_type": "stream",
          "name": "stdout",
          "text": [
            "1\n",
            "2\n",
            "Fizz\n",
            "4\n",
            "Buzz\n",
            "Fizz\n",
            "7\n",
            "8\n",
            "Fizz\n",
            "Buzz\n",
            "11\n",
            "Fizz\n",
            "13\n",
            "14\n",
            "FizzBuzz\n",
            "16\n",
            "17\n",
            "Fizz\n",
            "19\n",
            "Buzz\n",
            "Fizz\n",
            "22\n",
            "23\n",
            "Fizz\n",
            "Buzz\n",
            "26\n",
            "Fizz\n",
            "28\n",
            "29\n",
            "FizzBuzz\n",
            "31\n",
            "32\n",
            "Fizz\n",
            "34\n",
            "Buzz\n",
            "Fizz\n",
            "37\n",
            "38\n",
            "Fizz\n",
            "Buzz\n",
            "41\n",
            "Fizz\n",
            "43\n",
            "44\n",
            "FizzBuzz\n",
            "46\n",
            "47\n",
            "Fizz\n",
            "49\n",
            "Buzz\n",
            "Fizz\n",
            "52\n",
            "53\n",
            "Fizz\n",
            "Buzz\n",
            "56\n",
            "Fizz\n",
            "58\n",
            "59\n",
            "FizzBuzz\n",
            "61\n",
            "62\n",
            "Fizz\n",
            "64\n",
            "Buzz\n",
            "Fizz\n",
            "67\n",
            "68\n",
            "Fizz\n",
            "Buzz\n",
            "71\n",
            "Fizz\n",
            "73\n",
            "74\n",
            "FizzBuzz\n",
            "76\n",
            "77\n",
            "Fizz\n",
            "79\n",
            "Buzz\n",
            "Fizz\n",
            "82\n",
            "83\n",
            "Fizz\n",
            "Buzz\n",
            "86\n",
            "Fizz\n",
            "88\n",
            "89\n",
            "FizzBuzz\n",
            "91\n",
            "92\n",
            "Fizz\n",
            "94\n",
            "Buzz\n",
            "Fizz\n",
            "97\n",
            "98\n",
            "Fizz\n",
            "Buzz\n"
          ]
        }
      ]
    }
  ]
}